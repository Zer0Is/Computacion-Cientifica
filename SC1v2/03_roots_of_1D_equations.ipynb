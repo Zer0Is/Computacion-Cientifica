{
  "nbformat": 4,
  "nbformat_minor": 0,
  "metadata": {
    "anaconda-cloud": {},
    "kernelspec": {
      "display_name": "Python 3",
      "language": "python",
      "name": "python3"
    },
    "language_info": {
      "codemirror_mode": {
        "name": "ipython",
        "version": 3
      },
      "file_extension": ".py",
      "mimetype": "text/x-python",
      "name": "python",
      "nbconvert_exporter": "python",
      "pygments_lexer": "ipython3",
      "version": "3.8.8"
    },
    "nbpresent": {
      "slides": {},
      "themes": {}
    },
    "widgets": {
      "application/vnd.jupyter.widget-state+json": {
        "80a9e4345a214b5cab2c498bea2ae49d": {
          "model_module": "@jupyter-widgets/controls",
          "model_name": "VBoxModel",
          "state": {
            "_view_name": "VBoxView",
            "_dom_classes": [
              "widget-interact"
            ],
            "_model_name": "VBoxModel",
            "_view_module": "@jupyter-widgets/controls",
            "_model_module_version": "1.5.0",
            "_view_count": null,
            "_view_module_version": "1.5.0",
            "box_style": "",
            "layout": "IPY_MODEL_00993b7db686494e80916c961c5168c2",
            "_model_module": "@jupyter-widgets/controls",
            "children": [
              "IPY_MODEL_b3dbda6a9b854e6c98350e6cd83d1d76",
              "IPY_MODEL_4e4d8678a1c7483090f044c521e62f09"
            ]
          }
        },
        "00993b7db686494e80916c961c5168c2": {
          "model_module": "@jupyter-widgets/base",
          "model_name": "LayoutModel",
          "state": {
            "_view_name": "LayoutView",
            "grid_template_rows": null,
            "right": null,
            "justify_content": null,
            "_view_module": "@jupyter-widgets/base",
            "overflow": null,
            "_model_module_version": "1.2.0",
            "_view_count": null,
            "flex_flow": null,
            "width": null,
            "min_width": null,
            "border": null,
            "align_items": null,
            "bottom": null,
            "_model_module": "@jupyter-widgets/base",
            "top": null,
            "grid_column": null,
            "overflow_y": null,
            "overflow_x": null,
            "grid_auto_flow": null,
            "grid_area": null,
            "grid_template_columns": null,
            "flex": null,
            "_model_name": "LayoutModel",
            "justify_items": null,
            "grid_row": null,
            "max_height": null,
            "align_content": null,
            "visibility": null,
            "align_self": null,
            "height": null,
            "min_height": null,
            "padding": null,
            "grid_auto_rows": null,
            "grid_gap": null,
            "max_width": null,
            "order": null,
            "_view_module_version": "1.2.0",
            "grid_template_areas": null,
            "object_position": null,
            "object_fit": null,
            "grid_auto_columns": null,
            "margin": null,
            "display": null,
            "left": null
          }
        },
        "b3dbda6a9b854e6c98350e6cd83d1d76": {
          "model_module": "@jupyter-widgets/controls",
          "model_name": "FloatSliderModel",
          "state": {
            "_view_name": "FloatSliderView",
            "style": "IPY_MODEL_d607b69d4cba46a1971f5cd680bf6aa2",
            "_dom_classes": [],
            "description": "r",
            "step": 0.001,
            "_model_name": "FloatSliderModel",
            "orientation": "horizontal",
            "max": 3,
            "_view_module": "@jupyter-widgets/controls",
            "_model_module_version": "1.5.0",
            "value": 2,
            "_view_count": null,
            "disabled": false,
            "_view_module_version": "1.5.0",
            "min": 0.00001,
            "continuous_update": true,
            "readout_format": ".2f",
            "description_tooltip": null,
            "readout": true,
            "_model_module": "@jupyter-widgets/controls",
            "layout": "IPY_MODEL_803e4e33a8ed47ae8691050014e3e079"
          }
        },
        "4e4d8678a1c7483090f044c521e62f09": {
          "model_module": "@jupyter-widgets/output",
          "model_name": "OutputModel",
          "state": {
            "_view_name": "OutputView",
            "msg_id": "",
            "_dom_classes": [],
            "_model_name": "OutputModel",
            "outputs": [
              {
                "output_type": "display_data",
                "metadata": {
                  "tags": [],
                  "needs_background": "light"
                },
                "image/png": "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\n",
                "text/plain": "<Figure size 576x576 with 1 Axes>"
              }
            ],
            "_view_module": "@jupyter-widgets/output",
            "_model_module_version": "1.0.0",
            "_view_count": null,
            "_view_module_version": "1.0.0",
            "layout": "IPY_MODEL_186f416e238f49568daf293d02a36de6",
            "_model_module": "@jupyter-widgets/output"
          }
        },
        "d607b69d4cba46a1971f5cd680bf6aa2": {
          "model_module": "@jupyter-widgets/controls",
          "model_name": "SliderStyleModel",
          "state": {
            "_view_name": "StyleView",
            "handle_color": null,
            "_model_name": "SliderStyleModel",
            "description_width": "",
            "_view_module": "@jupyter-widgets/base",
            "_model_module_version": "1.5.0",
            "_view_count": null,
            "_view_module_version": "1.2.0",
            "_model_module": "@jupyter-widgets/controls"
          }
        },
        "803e4e33a8ed47ae8691050014e3e079": {
          "model_module": "@jupyter-widgets/base",
          "model_name": "LayoutModel",
          "state": {
            "_view_name": "LayoutView",
            "grid_template_rows": null,
            "right": null,
            "justify_content": null,
            "_view_module": "@jupyter-widgets/base",
            "overflow": null,
            "_model_module_version": "1.2.0",
            "_view_count": null,
            "flex_flow": null,
            "width": null,
            "min_width": null,
            "border": null,
            "align_items": null,
            "bottom": null,
            "_model_module": "@jupyter-widgets/base",
            "top": null,
            "grid_column": null,
            "overflow_y": null,
            "overflow_x": null,
            "grid_auto_flow": null,
            "grid_area": null,
            "grid_template_columns": null,
            "flex": null,
            "_model_name": "LayoutModel",
            "justify_items": null,
            "grid_row": null,
            "max_height": null,
            "align_content": null,
            "visibility": null,
            "align_self": null,
            "height": null,
            "min_height": null,
            "padding": null,
            "grid_auto_rows": null,
            "grid_gap": null,
            "max_width": null,
            "order": null,
            "_view_module_version": "1.2.0",
            "grid_template_areas": null,
            "object_position": null,
            "object_fit": null,
            "grid_auto_columns": null,
            "margin": null,
            "display": null,
            "left": null
          }
        },
        "186f416e238f49568daf293d02a36de6": {
          "model_module": "@jupyter-widgets/base",
          "model_name": "LayoutModel",
          "state": {
            "_view_name": "LayoutView",
            "grid_template_rows": null,
            "right": null,
            "justify_content": null,
            "_view_module": "@jupyter-widgets/base",
            "overflow": null,
            "_model_module_version": "1.2.0",
            "_view_count": null,
            "flex_flow": null,
            "width": null,
            "min_width": null,
            "border": null,
            "align_items": null,
            "bottom": null,
            "_model_module": "@jupyter-widgets/base",
            "top": null,
            "grid_column": null,
            "overflow_y": null,
            "overflow_x": null,
            "grid_auto_flow": null,
            "grid_area": null,
            "grid_template_columns": null,
            "flex": null,
            "_model_name": "LayoutModel",
            "justify_items": null,
            "grid_row": null,
            "max_height": null,
            "align_content": null,
            "visibility": null,
            "align_self": null,
            "height": null,
            "min_height": null,
            "padding": null,
            "grid_auto_rows": null,
            "grid_gap": null,
            "max_width": null,
            "order": null,
            "_view_module_version": "1.2.0",
            "grid_template_areas": null,
            "object_position": null,
            "object_fit": null,
            "grid_auto_columns": null,
            "margin": null,
            "display": null,
            "left": null
          }
        }
      }
    },
    "colab": {
      "name": "03_roots_of_1D_equations.ipynb",
      "provenance": [],
      "include_colab_link": true
    }
  },
  "cells": [
    {
      "cell_type": "markdown",
      "metadata": {
        "id": "view-in-github",
        "colab_type": "text"
      },
      "source": [
        "<a href=\"https://colab.research.google.com/github/Zer0Is/Computacion-Cientifica/blob/main/SC1v2/03_roots_of_1D_equations.ipynb\" target=\"_parent\"><img src=\"https://colab.research.google.com/assets/colab-badge.svg\" alt=\"Open In Colab\"/></a>"
      ]
    },
    {
      "cell_type": "markdown",
      "metadata": {
        "nbpresent": {
          "id": "de7417b4-3b4b-44c6-b72c-242cf788c74d"
        },
        "id": "NOI8SevYcGhi"
      },
      "source": [
        "<center>\n",
        "    <img src=\"http://sct.inf.utfsm.cl/wp-content/uploads/2020/04/logo_di.png\" style=\"width:60%\">\n",
        "    <h1> INF285 - Computación Científica </h1>\n",
        "    <h2> Roots of 1D equations </h2>\n",
        "    <h2> <a href=\"#acknowledgements\"> [S]cientific [C]omputing [T]eam </a> </h2>\n",
        "    <h2> Version: 1.34</h2>\n",
        "</center>"
      ]
    },
    {
      "cell_type": "markdown",
      "metadata": {
        "nbpresent": {
          "id": "0bf960ac-5485-453f-a7fa-b127626d0722"
        },
        "id": "qovoz2I1cGho"
      },
      "source": [
        "<div id='toc' />\n",
        "\n",
        "## Table of Contents\n",
        "* [Introduction](#intro)\n",
        "* [Bisection Method](#bisection)\n",
        "* [Fixed Point Iteration and Cobweb diagram](#fpi)\n",
        "* [FPI - example from etxtbook](#fpi-textbook-example)\n",
        "* [Newton Method](#nm)\n",
        "* [Wilkinson Polynomial](#wilkinson)\n",
        "* [Acknowledgements](#acknowledgements)\n",
        "* [Extra Examples](#extraexamples)"
      ]
    },
    {
      "cell_type": "code",
      "metadata": {
        "nbpresent": {
          "id": "933f781f-471c-4576-bc44-cacb85f3d74e"
        },
        "id": "4z4Lmp3KcGhr"
      },
      "source": [
        "import numpy as np\n",
        "import matplotlib.pyplot as plt\n",
        "import sympy as sym\n",
        "%matplotlib inline\n",
        "from ipywidgets import interact\n",
        "from ipywidgets import widgets\n",
        "sym.init_printing()\n",
        "from scipy import optimize"
      ],
      "execution_count": 1,
      "outputs": []
    },
    {
      "cell_type": "markdown",
      "metadata": {
        "nbpresent": {
          "id": "b67d6f1e-9141-4fdb-a380-7143377bb257"
        },
        "id": "1E5XVMV-cGht"
      },
      "source": [
        "<div id='intro' />\n",
        "\n",
        "# Introduction\n",
        "[Back to TOC](#toc)\n",
        "\n",
        "Hello again! In this document we're going to learn how to find a 1D equation's solution using numerical methods. First, let's start with the definition of a root:\n",
        "\n",
        "<b>Definition</b>: The function $f(x)$ has a <b>root</b> in $x = r$ if $f(r) = 0$.\n",
        "\n",
        "An example: Let's say we want to solve the equation $x + \\log(x) = 3$. We can rearrange the equation: $x + \\log(x) - 3 = 0$. That way, to find its solution we can find the root of $f(x) = x + \\log(x) - 3$. Now let's study some numerical methods to solve these kinds of problems. "
      ]
    },
    {
      "cell_type": "markdown",
      "metadata": {
        "nbpresent": {
          "id": "6ad27f67-ce50-4034-8ad6-87fc8e891710"
        },
        "id": "qw9tc9-QcGhv"
      },
      "source": [
        "Defining a function $f(x)$"
      ]
    },
    {
      "cell_type": "code",
      "metadata": {
        "nbpresent": {
          "id": "303a1805-24d2-40c6-85f9-d0d40f2092e1"
        },
        "id": "j__WDrTicGhw"
      },
      "source": [
        "f = lambda x: x+np.log(x)-3"
      ],
      "execution_count": 2,
      "outputs": []
    },
    {
      "cell_type": "markdown",
      "metadata": {
        "nbpresent": {
          "id": "1fbf0be0-90c4-413c-983f-e4d6ea6f76bc"
        },
        "id": "GxZYD15ZcGhx"
      },
      "source": [
        "Finding $r$ using sympy"
      ]
    },
    {
      "cell_type": "code",
      "metadata": {
        "nbpresent": {
          "id": "e91bbbf7-6c90-4f31-ae8c-55555844daa8"
        },
        "id": "Km7S0CUncGhz",
        "outputId": "3d0ef1ac-6ca8-43ab-e5ee-c1f500814964",
        "colab": {
          "base_uri": "https://localhost:8080/"
        }
      },
      "source": [
        "y = sym.Symbol('y')\n",
        "fsym = lambda y: y+sym.log(y)-3\n",
        "r_all=sym.solve(sym.Eq(fsym(y), 0), y)\n",
        "r=r_all[0].evalf()\n",
        "print(r)\n",
        "print(r_all)"
      ],
      "execution_count": 3,
      "outputs": [
        {
          "output_type": "stream",
          "text": [
            "2.20794003156932\n",
            "[LambertW(exp(3))]\n"
          ],
          "name": "stdout"
        }
      ]
    },
    {
      "cell_type": "code",
      "metadata": {
        "nbpresent": {
          "id": "1e499efa-b348-449b-95da-6ae6f7d8bc13"
        },
        "id": "DjjOg5LScGh1",
        "outputId": "af7b068c-314b-4365-cbd0-f2d446a59a5a",
        "colab": {
          "base_uri": "https://localhost:8080/",
          "height": 570,
          "referenced_widgets": [
            "80a9e4345a214b5cab2c498bea2ae49d",
            "00993b7db686494e80916c961c5168c2",
            "b3dbda6a9b854e6c98350e6cd83d1d76",
            "4e4d8678a1c7483090f044c521e62f09",
            "d607b69d4cba46a1971f5cd680bf6aa2",
            "803e4e33a8ed47ae8691050014e3e079",
            "186f416e238f49568daf293d02a36de6"
          ]
        }
      },
      "source": [
        "def find_root_manually(r=2.0): \n",
        "    x = np.linspace(1,3,1000)\n",
        "    plt.figure(figsize=(8,8))\n",
        "    plt.plot(x,f(x),'b-')\n",
        "    plt.grid()\n",
        "    plt.ylabel('$f(x)$',fontsize=16)\n",
        "    plt.xlabel('$x$',fontsize=16)\n",
        "    plt.title('What is r such that $f(r)='+str(f(r))+'$? $r='+str(r)+'$',fontsize=16)\n",
        "    plt.plot(r,f(r),'k.',markersize=20)\n",
        "    plt.show()\n",
        "interact(find_root_manually,r=(1e-5,3,1e-3))"
      ],
      "execution_count": 4,
      "outputs": [
        {
          "output_type": "display_data",
          "data": {
            "application/vnd.jupyter.widget-view+json": {
              "model_id": "80a9e4345a214b5cab2c498bea2ae49d",
              "version_minor": 0,
              "version_major": 2
            },
            "text/plain": [
              "interactive(children=(FloatSlider(value=2.0, description='r', max=3.0, min=1e-05, step=0.001), Output()), _dom…"
            ]
          },
          "metadata": {
            "tags": []
          }
        },
        {
          "output_type": "execute_result",
          "data": {
            "text/plain": [
              "<function __main__.find_root_manually>"
            ]
          },
          "metadata": {
            "tags": []
          },
          "execution_count": 4
        }
      ]
    },
    {
      "cell_type": "markdown",
      "metadata": {
        "nbpresent": {
          "id": "0205cfe4-30cb-4064-a6bb-d6bb7ba0c4e4"
        },
        "id": "1orOeSmscGh3"
      },
      "source": [
        "<div id='bisection' />\n",
        "\n",
        "# Bisection Method\n",
        "[Back to TOC](#toc)"
      ]
    },
    {
      "cell_type": "markdown",
      "metadata": {
        "nbpresent": {
          "id": "876cd550-d494-49e9-8009-7c7ff260fadf"
        },
        "id": "DwO1UAZqcGh4"
      },
      "source": [
        "The bisection method finds the root of a function $f$, where $f$ is a **continuous** function.\n",
        "If we want to know if this has a root, we have to check if there is an interval $[a,b]$ for which \n",
        "$f(a)\\cdot f(b) < 0$. When these 2 conditions are satisfied, it means that there is a value $r$, between $a$ and $b$, for which $f(r) = 0$. To summarize how this method works, start with the aforementioned interval (checking that there's a root in it), and split it into two smaller intervals $[a,c]$ and $[c,b]$. Then, check which of the two intervals contains a root. Keep splitting each \"eligible\" interval until the algorithm converges or the tolerance is surpassed."
      ]
    },
    {
      "cell_type": "code",
      "metadata": {
        "nbpresent": {
          "id": "1261a3bc-1a85-41f6-834e-5882848b6265"
        },
        "id": "Gsyguxu7cGh5"
      },
      "source": [
        "def bisect(f, a, b, tol=1e-5, maxNumberIterations=100):\n",
        "    fa = f(a)\n",
        "    fb = f(b)\n",
        "    print(a,b)\n",
        "    i = 0\n",
        "    # Just checking if the sign is not negative => not root  necessarily \n",
        "    if np.sign(f(a)*f(b)) >= 0:\n",
        "        print('f(a)f(b)<0 not satisfied!')\n",
        "        return False\n",
        "  \n",
        "    #Printing the evolution of the computation of the root\n",
        "    print(' i |     a     |     c     |     b     |     fa    |     fc     |     fb     |   b-a')\n",
        "    print('----------------------------------------------------------------------------------------')\n",
        "    \n",
        "    while ((b-a)/2 > tol) and i<=maxNumberIterations:\n",
        "        c = (a+b)/2.\n",
        "        fc = f(c)\n",
        "        print('%2d | %.7f | %.7f | %.7f | %.7f | %.7f | %.7f | %.7f' %\n",
        "              (i+1, a, c, b, fa, fc, fb, b-a))\n",
        "        # Did we find the root?\n",
        "        if fc == 0:\n",
        "            print('f(c)==0')\n",
        "            break\n",
        "        elif np.sign(fa*fc) < 0:\n",
        "            b = c\n",
        "            fb = fc\n",
        "        else:\n",
        "            a = c\n",
        "            fa = fc\n",
        "        i += 1\n",
        "        \n",
        "    xc = (a+b)/2.\n",
        "    return xc"
      ],
      "execution_count": 56,
      "outputs": []
    },
    {
      "cell_type": "code",
      "metadata": {
        "scrolled": false,
        "id": "Pzb9gRjhcGh7",
        "outputId": "8ac38ead-66b0-4cc1-b438-cbadfac83402",
        "colab": {
          "base_uri": "https://localhost:8080/",
          "height": 356
        }
      },
      "source": [
        "# Initial example\n",
        "f1 = lambda x: x+np.log(x)-3\n",
        "# A different function, notice that x is multiplied to teh exponential now and not added, as before.\n",
        "f2 = lambda x: x*np.exp(x)-3\n",
        "# This is the introductory example about Fixed Point Iteration\n",
        "f3 = lambda x: np.cos(x)-x\n",
        "bisect(f1,0.5,3)"
      ],
      "execution_count": 6,
      "outputs": [
        {
          "output_type": "stream",
          "text": [
            " i |     a     |     c     |     b     |     fa    |     fc     |     fb     |   b-a\n",
            "----------------------------------------------------------------------------------------\n",
            " 1 | 0.5000000 | 1.7500000 | 3.0000000 | -3.1931472 | -0.6903842 | 1.0986123 | 2.5000000\n",
            " 2 | 1.7500000 | 2.3750000 | 3.0000000 | -0.6903842 | 0.2399974 | 1.0986123 | 1.2500000\n",
            " 3 | 1.7500000 | 2.0625000 | 2.3750000 | -0.6903842 | -0.2135812 | 0.2399974 | 0.6250000\n",
            " 4 | 2.0625000 | 2.2187500 | 2.3750000 | -0.2135812 | 0.0156940 | 0.2399974 | 0.3125000\n",
            " 5 | 2.0625000 | 2.1406250 | 2.2187500 | -0.2135812 | -0.0982772 | 0.0156940 | 0.1562500\n",
            " 6 | 2.1406250 | 2.1796875 | 2.2187500 | -0.0982772 | -0.0411310 | 0.0156940 | 0.0781250\n",
            " 7 | 2.1796875 | 2.1992188 | 2.2187500 | -0.0411310 | -0.0126791 | 0.0156940 | 0.0390625\n",
            " 8 | 2.1992188 | 2.2089844 | 2.2187500 | -0.0126791 | 0.0015172 | 0.0156940 | 0.0195312\n",
            " 9 | 2.1992188 | 2.2041016 | 2.2089844 | -0.0126791 | -0.0055785 | 0.0015172 | 0.0097656\n",
            "10 | 2.2041016 | 2.2065430 | 2.2089844 | -0.0055785 | -0.0020300 | 0.0015172 | 0.0048828\n",
            "11 | 2.2065430 | 2.2077637 | 2.2089844 | -0.0020300 | -0.0002562 | 0.0015172 | 0.0024414\n",
            "12 | 2.2077637 | 2.2083740 | 2.2089844 | -0.0002562 | 0.0006305 | 0.0015172 | 0.0012207\n",
            "13 | 2.2077637 | 2.2080688 | 2.2083740 | -0.0002562 | 0.0001872 | 0.0006305 | 0.0006104\n",
            "14 | 2.2077637 | 2.2079163 | 2.2080688 | -0.0002562 | -0.0000345 | 0.0001872 | 0.0003052\n",
            "15 | 2.2079163 | 2.2079926 | 2.2080688 | -0.0000345 | 0.0000763 | 0.0001872 | 0.0001526\n",
            "16 | 2.2079163 | 2.2079544 | 2.2079926 | -0.0000345 | 0.0000209 | 0.0000763 | 0.0000763\n",
            "17 | 2.2079163 | 2.2079353 | 2.2079544 | -0.0000345 | -0.0000068 | 0.0000209 | 0.0000381\n"
          ],
          "name": "stdout"
        },
        {
          "output_type": "execute_result",
          "data": {
            "image/png": "[encoded data removed]",
            "text/latex": "$\\displaystyle 2.20794486999512$",
            "text/plain": [
              "2.207944869995117"
            ]
          },
          "metadata": {
            "tags": []
          },
          "execution_count": 6
        }
      ]
    },
    {
      "cell_type": "code",
      "metadata": {
        "nbpresent": {
          "id": "95c67a15-aecf-40cb-b9bc-b1145767fb97"
        },
        "id": "QRUaNIAOcGh9",
        "outputId": "f0515241-2cd3-4d69-d33f-5b2ae6885cb0",
        "colab": {
          "base_uri": "https://localhost:8080/",
          "height": 356
        }
      },
      "source": [
        "# Initial example\n",
        "f1 = lambda x: x+np.log(x)-3\n",
        "# A different function, notice that x is multiplied to teh exponential now and not added, as before.\n",
        "f2 = lambda x: x*np.exp(x)-3\n",
        "# This is the introductory example about Fixed Point Iteration\n",
        "f3 = lambda x: np.cos(x)-x\n",
        "bisect(f2,0.5,3,tol=1e-5)"
      ],
      "execution_count": 7,
      "outputs": [
        {
          "output_type": "stream",
          "text": [
            " i |     a     |     c     |     b     |     fa    |     fc     |     fb     |   b-a\n",
            "----------------------------------------------------------------------------------------\n",
            " 1 | 0.5000000 | 1.7500000 | 3.0000000 | -2.1756394 | 7.0705547 | 57.2566108 | 2.5000000\n",
            " 2 | 0.5000000 | 1.1250000 | 1.7500000 | -2.1756394 | 0.4652440 | 7.0705547 | 1.2500000\n",
            " 3 | 0.5000000 | 0.8125000 | 1.1250000 | -2.1756394 | -1.1690030 | 0.4652440 | 0.6250000\n",
            " 4 | 0.8125000 | 0.9687500 | 1.1250000 | -1.1690030 | -0.4476837 | 0.4652440 | 0.3125000\n",
            " 5 | 0.9687500 | 1.0468750 | 1.1250000 | -0.4476837 | -0.0177307 | 0.4652440 | 0.1562500\n",
            " 6 | 1.0468750 | 1.0859375 | 1.1250000 | -0.0177307 | 0.2167810 | 0.4652440 | 0.0781250\n",
            " 7 | 1.0468750 | 1.0664062 | 1.0859375 | -0.0177307 | 0.0978261 | 0.2167810 | 0.0390625\n",
            " 8 | 1.0468750 | 1.0566406 | 1.0664062 | -0.0177307 | 0.0396284 | 0.0978261 | 0.0195312\n",
            " 9 | 1.0468750 | 1.0517578 | 1.0566406 | -0.0177307 | 0.0108447 | 0.0396284 | 0.0097656\n",
            "10 | 1.0468750 | 1.0493164 | 1.0517578 | -0.0177307 | -0.0034689 | 0.0108447 | 0.0048828\n",
            "11 | 1.0493164 | 1.0505371 | 1.0517578 | -0.0034689 | 0.0036814 | 0.0108447 | 0.0024414\n",
            "12 | 1.0493164 | 1.0499268 | 1.0505371 | -0.0034689 | 0.0001046 | 0.0036814 | 0.0012207\n",
            "13 | 1.0493164 | 1.0496216 | 1.0499268 | -0.0034689 | -0.0016825 | 0.0001046 | 0.0006104\n",
            "14 | 1.0496216 | 1.0497742 | 1.0499268 | -0.0016825 | -0.0007891 | 0.0001046 | 0.0003052\n",
            "15 | 1.0497742 | 1.0498505 | 1.0499268 | -0.0007891 | -0.0003422 | 0.0001046 | 0.0001526\n",
            "16 | 1.0498505 | 1.0498886 | 1.0499268 | -0.0003422 | -0.0001188 | 0.0001046 | 0.0000763\n",
            "17 | 1.0498886 | 1.0499077 | 1.0499268 | -0.0001188 | -0.0000071 | 0.0001046 | 0.0000381\n"
          ],
          "name": "stdout"
        },
        {
          "output_type": "execute_result",
          "data": {
            "image/png": "[encoded data removed]",
            "text/latex": "$\\displaystyle 1.04991722106934$",
            "text/plain": [
              "1.049917221069336"
            ]
          },
          "metadata": {
            "tags": []
          },
          "execution_count": 7
        }
      ]
    },
    {
      "cell_type": "markdown",
      "metadata": {
        "nbpresent": {
          "id": "8f1dcc0b-4e83-4eb0-9020-30ea3107c233"
        },
        "id": "x3X56x80cGh-"
      },
      "source": [
        "It's very important to define a concept called **convergence rate**. \n",
        "This rate shows how fast the convergence of a method is at a specified point.\n",
        "\n",
        "The convergence rate for the bisection is always 0.5 because this method uses the half of the interval for each iteration."
      ]
    },
    {
      "cell_type": "markdown",
      "metadata": {
        "nbpresent": {
          "id": "55bcc6fb-d884-4d44-b569-078ce0ad1459"
        },
        "id": "wpT_71WqcGiA"
      },
      "source": [
        "<div id='fpi' />\n",
        "\n",
        "# Fixed Point Iteration and Cobweb diagram\n",
        "[Back to TOC](#toc)"
      ]
    },
    {
      "cell_type": "markdown",
      "metadata": {
        "nbpresent": {
          "id": "ef495f98-a04f-404f-8e91-460af809e7bd"
        },
        "id": "7Bt4EbKecGiB"
      },
      "source": [
        "To learn about the Fixed-Point Iteration we will first learn about the concept of Fixed Point.\n",
        "\n",
        "A Fixed Point of a function $g$ is a real number $r$, where $g(r) = r$\n",
        "\n",
        "The Fixed-Point Iteration is based in the Fixed Point concept and works like this to find the root of a function:\n",
        "\n",
        "\\begin{align*} \n",
        "    x_{0} &= initial\\_guess \\\\ \n",
        "    x_{i+1} &= g(x_{i})\n",
        "\\end{align*}\n",
        "\n",
        "To find an equation's solution using this method you'll have to move around some things to rearrange the equation in the form $x = g(x)$. That way, you'll be iterating over the funcion $g(x)$, but you will **not** find $g$'s root, but $f(x) = g(x) - x$ (or $f(x) = x - g(x)$)'s root. In our following example, we'll find the solution to $f(x) = x - \\cos(x)$ by iterating over the funcion $g(x) = \\cos(x)$.\n",
        "\n"
      ]
    },
    {
      "cell_type": "code",
      "metadata": {
        "nbpresent": {
          "id": "1cd6c7c7-0b0d-4537-8361-c712ccec3478"
        },
        "id": "_SmkcaK_cGiC"
      },
      "source": [
        "def cobweb(x,g=None):\n",
        "    min_x = np.amin(x)\n",
        "    max_x = np.amax(x)\n",
        "    \n",
        "    plt.figure(figsize=(10,10))\n",
        "    ax = plt.axes()\n",
        "    plt.plot(np.array([min_x,max_x]),np.array([min_x,max_x]),'b-')\n",
        "    for i in np.arange(x.size-1):\n",
        "        delta_x = x[i+1]-x[i]\n",
        "        head_length =  np.abs(delta_x)*0.04\n",
        "        arrow_length = delta_x-np.sign(delta_x)*head_length\n",
        "        ax.arrow(x[i], x[i], 0, arrow_length, head_width=1.5*head_length, head_length=head_length, fc='k', ec='k')\n",
        "        ax.arrow(x[i], x[i+1], arrow_length, 0, head_width=1.5*head_length, head_length=head_length, fc='k', ec='k')\n",
        "    \n",
        "    if g!=None:\n",
        "        y = np.linspace(min_x,max_x,1000)\n",
        "        plt.plot(y,g(y),'r')\n",
        "    \n",
        "    plt.title('Cobweb diagram')\n",
        "    plt.grid(True)\n",
        "    plt.show()\n",
        "\n",
        "def fpi(g, x0, k, flag_cobweb=False):\n",
        "    x = np.empty(k+1)\n",
        "    x[0] = x0\n",
        "    error_i = np.inf\n",
        "    \n",
        "    print(' i |     x_i      |    x_{i+1}   ||x_{i+1}-x_i| | e_{i+1}/e_i | e_{i+1}/e_i^2')\n",
        "    print('-----------------------------------------------------------------------------')\n",
        "    \n",
        "    for i in range(k):\n",
        "        x[i+1] = g(x[i])\n",
        "        error_iminus1 = error_i\n",
        "        error_i = abs(x[i+1]-x[i])\n",
        "        print('%2d | %.10f | %.10f | %.10f | %.10f | %.10f' %\n",
        "              (i,x[i],x[i+1],error_i,error_i/error_iminus1,error_i/(error_iminus1**2)))\n",
        "    if flag_cobweb:\n",
        "        cobweb(x,g)\n",
        "    return x[-1]"
      ],
      "execution_count": 8,
      "outputs": []
    },
    {
      "cell_type": "code",
      "metadata": {
        "nbpresent": {
          "id": "a3a27d8e-4cec-407f-8aa4-5301d152d7a2"
        },
        "scrolled": false,
        "id": "FQ1KX3rMcGiE",
        "outputId": "896e4f78-0b6c-42a8-da5b-012f85417367",
        "colab": {
          "base_uri": "https://localhost:8080/",
          "height": 997
        }
      },
      "source": [
        "g = lambda x: np.cos(x)\n",
        "fpi(g, 2, 20, True)"
      ],
      "execution_count": 9,
      "outputs": [
        {
          "output_type": "stream",
          "text": [
            " i |     x_i      |    x_{i+1}   ||x_{i+1}-x_i| | e_{i+1}/e_i | e_{i+1}/e_i^2\n",
            "-----------------------------------------------------------------------------\n",
            " 0 | 2.0000000000 | -0.4161468365 | 2.4161468365 | 0.0000000000 | 0.0000000000\n",
            " 1 | -0.4161468365 | 0.9146533259 | 1.3308001624 | 0.5507944063 | 0.2279639623\n",
            " 2 | 0.9146533259 | 0.6100652997 | 0.3045880261 | 0.2288758558 | 0.1719836398\n",
            " 3 | 0.6100652997 | 0.8196106080 | 0.2095453083 | 0.6879630527 | 2.2586674253\n",
            " 4 | 0.8196106080 | 0.6825058579 | 0.1371047501 | 0.6542964443 | 3.1224580961\n",
            " 5 | 0.6825058579 | 0.7759946131 | 0.0934887552 | 0.6818783095 | 4.9734112712\n",
            " 6 | 0.7759946131 | 0.7137247340 | 0.0622698791 | 0.6660681166 | 7.1245800092\n",
            " 7 | 0.7137247340 | 0.7559287136 | 0.0422039796 | 0.6777591376 | 10.8842211877\n",
            " 8 | 0.7559287136 | 0.7276347923 | 0.0282939213 | 0.6704088465 | 15.8849675651\n",
            " 9 | 0.7276347923 | 0.7467496017 | 0.0191148094 | 0.6755800739 | 23.8772161593\n",
            "10 | 0.7467496017 | 0.7339005972 | 0.0128490045 | 0.6722015485 | 35.1665315532\n",
            "11 | 0.7339005972 | 0.7425675503 | 0.0086669531 | 0.6745233116 | 52.4961534769\n",
            "12 | 0.7425675503 | 0.7367348584 | 0.0058326919 | 0.6729806736 | 77.6490502525\n",
            "13 | 0.7367348584 | 0.7406662639 | 0.0039314055 | 0.6740293405 | 115.5605938426\n",
            "14 | 0.7406662639 | 0.7380191412 | 0.0026471227 | 0.6733273142 | 171.2688547776\n",
            "15 | 0.7380191412 | 0.7398027782 | 0.0017836370 | 0.6738021758 | 254.5413469114\n",
            "16 | 0.7398027782 | 0.7386015286 | 0.0012012496 | 0.6734832006 | 377.5898286760\n",
            "17 | 0.7386015286 | 0.7394108086 | 0.0008092800 | 0.6736984720 | 560.8313921736\n",
            "18 | 0.7394108086 | 0.7388657151 | 0.0005450935 | 0.6735536472 | 832.2875198866\n",
            "19 | 0.7388657151 | 0.7392329181 | 0.0003672029 | 0.6736512865 | 1235.8453896737\n"
          ],
          "name": "stdout"
        },
        {
          "output_type": "display_data",
          "data": {
            "image/png": "[encoded data removed]",
            "text/plain": [
              "<Figure size 720x720 with 1 Axes>"
            ]
          },
          "metadata": {
            "tags": [],
            "needs_background": "light"
          }
        },
        {
          "output_type": "execute_result",
          "data": {
            "image/png": "[encoded data removed]",
            "text/latex": "$\\displaystyle 0.739232918076963$",
            "text/plain": [
              "0.7392329180769628"
            ]
          },
          "metadata": {
            "tags": []
          },
          "execution_count": 9
        }
      ]
    },
    {
      "cell_type": "markdown",
      "metadata": {
        "nbpresent": {
          "id": "f3e3319f-ad4b-4c0b-89e7-7bd915c819ac"
        },
        "id": "PQ-EapS_cGiG"
      },
      "source": [
        "Let's quickly explain the Cobweb Diagram we have here. The <font color=\"blue\">blue</font> line is the function $x$ and the <font color=\"red\">red</font> is the function $g(x)$. The point in which they meet is $g$'s fixed point. In this particular example, we start at <font color=\"blue\">$y = x = 1.5$</font> (the top right corner) and then we \"jump\" **vertically** to <font color=\"red\">$y = \\cos(1.5) \\approx 0.07$</font>. After this, we jump **horizontally** to <font color=\"blue\">$x = \\cos(1.5) \\approx 0.07$</font>. Then, we jump again **vertically** to <font color=\"red\">$y = \\cos\\left(\\cos(1.5)\\right) \\approx 0.997$</font> and so on. See the pattern here? We're just iterating over $x = \\cos(x)$, getting closer to the center of the diagram where the fixed point resides, in $x \\approx 0.739$."
      ]
    },
    {
      "cell_type": "markdown",
      "metadata": {
        "nbpresent": {
          "id": "39bab94c-eca7-4f81-b21d-c47784e1820d"
        },
        "id": "bRPDQpB7cGiH"
      },
      "source": [
        "It's very important to mention that the algorithm will converge only if the rate of convergence $S < 1$, where $S = \\left| g'(r) \\right|$. If you want to use this method, you'll have to construct $g(x)$ starting from $f(x)$ accordingly. In this example, $g(x) = \\cos(x) \\Rightarrow g'(x) = -\\sin(x)$ and $|-\\sin(0.739)| \\approx 0.67$."
      ]
    },
    {
      "cell_type": "markdown",
      "metadata": {
        "id": "a1iocdvvcGiI"
      },
      "source": [
        "### Another example. Look at this web page to undertand the context: https://divisbyzero.com/2008/12/18/sharkovskys-theorem/amp/?__twitter_impression=true"
      ]
    },
    {
      "cell_type": "code",
      "metadata": {
        "id": "h47SWktpcGiI",
        "outputId": "b939c378-90cb-41e0-b4c3-3c59a521c00a",
        "colab": {
          "base_uri": "https://localhost:8080/",
          "height": 0
        }
      },
      "source": [
        "# Consider this funtion\n",
        "g = lambda x: -(3/2)*x**2+(11/2)*x-2\n",
        "# Here we compute the derivative of it.\n",
        "gp = lambda x: -3*x+11/2\n",
        "\n",
        "# We plot now the funcion itself (red), its derivative (magenta) and the function y=x (blue).\n",
        "# We also plot the values -1 and 1 with green dashed curves.\n",
        "# This analyis shows that the fixed point, which is the intersection between teh red and blue curves, \n",
        "# does not generate a convergent fix-point-iteration since the derivative (magenta curve) has a value\n",
        "# lower then -1 about the fized point.\n",
        "x=np.linspace(2,3,100)\n",
        "plt.figure(figsize=(8,8))\n",
        "plt.plot(x,g(x),'r-',label=r'$g(x)$')\n",
        "plt.plot(x,x,'b-')\n",
        "plt.plot(x,gp(x),'m-')\n",
        "plt.plot(x,gp(x)*0+1,'g--')\n",
        "plt.plot(x,gp(x)*0-1,'g--')\n",
        "plt.grid(True)\n",
        "plt.show()"
      ],
      "execution_count": 10,
      "outputs": [
        {
          "output_type": "display_data",
          "data": {
            "image/png": "[encoded data removed]",
            "text/plain": [
              "<Figure size 576x576 with 1 Axes>"
            ]
          },
          "metadata": {
            "tags": [],
            "needs_background": "light"
          }
        }
      ]
    },
    {
      "cell_type": "markdown",
      "metadata": {
        "id": "Ln6CeiydcGiK"
      },
      "source": [
        "What it is interesting about the previous example is that it generates an interesting limit cicle! In the next cell we evaluate the fixed point with initial guess equal to 1. The iteration oscilates generating the following sequence: 1, 2, 3, 1, 2, 3, .... Which is nice!"
      ]
    },
    {
      "cell_type": "code",
      "metadata": {
        "id": "snoYBm3pcGiL",
        "outputId": "9bf05301-f4eb-4301-8b87-1889fa95b6ba",
        "colab": {
          "base_uri": "https://localhost:8080/",
          "height": 0
        }
      },
      "source": [
        "fpi(g, 1, 12, True)"
      ],
      "execution_count": 11,
      "outputs": [
        {
          "output_type": "stream",
          "text": [
            " i |     x_i      |    x_{i+1}   ||x_{i+1}-x_i| | e_{i+1}/e_i | e_{i+1}/e_i^2\n",
            "-----------------------------------------------------------------------------\n",
            " 0 | 1.0000000000 | 2.0000000000 | 1.0000000000 | 0.0000000000 | 0.0000000000\n",
            " 1 | 2.0000000000 | 3.0000000000 | 1.0000000000 | 1.0000000000 | 1.0000000000\n",
            " 2 | 3.0000000000 | 1.0000000000 | 2.0000000000 | 2.0000000000 | 2.0000000000\n",
            " 3 | 1.0000000000 | 2.0000000000 | 1.0000000000 | 0.5000000000 | 0.2500000000\n",
            " 4 | 2.0000000000 | 3.0000000000 | 1.0000000000 | 1.0000000000 | 1.0000000000\n",
            " 5 | 3.0000000000 | 1.0000000000 | 2.0000000000 | 2.0000000000 | 2.0000000000\n",
            " 6 | 1.0000000000 | 2.0000000000 | 1.0000000000 | 0.5000000000 | 0.2500000000\n",
            " 7 | 2.0000000000 | 3.0000000000 | 1.0000000000 | 1.0000000000 | 1.0000000000\n",
            " 8 | 3.0000000000 | 1.0000000000 | 2.0000000000 | 2.0000000000 | 2.0000000000\n",
            " 9 | 1.0000000000 | 2.0000000000 | 1.0000000000 | 0.5000000000 | 0.2500000000\n",
            "10 | 2.0000000000 | 3.0000000000 | 1.0000000000 | 1.0000000000 | 1.0000000000\n",
            "11 | 3.0000000000 | 1.0000000000 | 2.0000000000 | 2.0000000000 | 2.0000000000\n"
          ],
          "name": "stdout"
        },
        {
          "output_type": "display_data",
          "data": {
            "image/png": "[encoded data removed]",
            "text/plain": [
              "<Figure size 720x720 with 1 Axes>"
            ]
          },
          "metadata": {
            "tags": [],
            "needs_background": "light"
          }
        },
        {
          "output_type": "execute_result",
          "data": {
            "image/png": "[encoded data removed]",
            "text/latex": "$\\displaystyle 1.0$",
            "text/plain": [
              "1.0"
            ]
          },
          "metadata": {
            "tags": []
          },
          "execution_count": 11
        }
      ]
    },
    {
      "cell_type": "markdown",
      "metadata": {
        "id": "bZAQlflHcGiM"
      },
      "source": [
        "However, we prefer convergent fixed-point-iterations! Here is interesting way to make a non-convergent FPI into a convergent one."
      ]
    },
    {
      "cell_type": "code",
      "metadata": {
        "id": "ebwhrtMOcGiN",
        "outputId": "2396604c-5d00-4e96-ada9-efbfe0ff242b",
        "colab": {
          "base_uri": "https://localhost:8080/",
          "height": 0
        }
      },
      "source": [
        "# This is an \"avocado\" hidden in the code!\n",
        "a=-1/2.7\n",
        "g2 = lambda x: x+a*(x-g(x))\n",
        "fpi(g2, 1, 14, True)"
      ],
      "execution_count": 12,
      "outputs": [
        {
          "output_type": "stream",
          "text": [
            " i |     x_i      |    x_{i+1}   ||x_{i+1}-x_i| | e_{i+1}/e_i | e_{i+1}/e_i^2\n",
            "-----------------------------------------------------------------------------\n",
            " 0 | 1.0000000000 | 1.3703703704 | 0.3703703704 | 0.0000000000 | 0.0000000000\n",
            " 1 | 1.3703703704 | 1.8702941625 | 0.4999237921 | 1.3497942387 | 3.6444444444\n",
            " 2 | 1.8702941625 | 2.3033768846 | 0.4330827222 | 0.8662974818 | 1.7328590786\n",
            " 3 | 2.3033768846 | 2.4540725779 | 0.1506956933 | 0.3479605294 | 0.8034504993\n",
            " 4 | 2.4540725779 | 2.4576349017 | 0.0035623237 | 0.0236391875 | 0.1568670408\n",
            " 5 | 2.4576349017 | 2.4574138249 | 0.0002210768 | 0.0620597109 | 17.4211316367\n",
            " 6 | 2.4574138249 | 2.4574279552 | 0.0000141303 | 0.0639159592 | 289.1120393896\n",
            " 7 | 2.4574279552 | 2.4574270537 | 0.0000009015 | 0.0638009889 | 4515.1789387494\n",
            " 8 | 2.4574270537 | 2.4574271112 | 0.0000000575 | 0.0638083384 | 70777.8849634007\n",
            " 9 | 2.4574271112 | 2.4574271075 | 0.0000000037 | 0.0638078755 | 1109218.2194221437\n",
            "10 | 2.4574271075 | 2.4574271078 | 0.0000000002 | 0.0638079298 | 17383734.4597040825\n",
            "11 | 2.4574271078 | 2.4574271078 | 0.0000000000 | 0.0638079618 | 272438601.8737151027\n",
            "12 | 2.4574271078 | 2.4574271078 | 0.0000000000 | 0.0638297872 | 4271125133.7568655014\n",
            "13 | 2.4574271078 | 2.4574271078 | 0.0000000000 | 0.0642458101 | 67350420444.0673751831\n"
          ],
          "name": "stdout"
        },
        {
          "output_type": "display_data",
          "data": {
            "image/png": "[encoded data removed]",
            "text/plain": [
              "<Figure size 720x720 with 1 Axes>"
            ]
          },
          "metadata": {
            "tags": [],
            "needs_background": "light"
          }
        },
        {
          "output_type": "execute_result",
          "data": {
            "image/png": "[encoded data removed]",
            "text/latex": "$\\displaystyle 2.45742710775633$",
            "text/plain": [
              "2.457427107756334"
            ]
          },
          "metadata": {
            "tags": []
          },
          "execution_count": 12
        }
      ]
    },
    {
      "cell_type": "markdown",
      "metadata": {
        "id": "1kvDRnx5cGiO"
      },
      "source": [
        "<div id='fpi-textbook-example' />\n",
        "\n",
        "# FPI - example from textbook\n",
        "[Back to TOC](#toc)\n"
      ]
    },
    {
      "cell_type": "markdown",
      "metadata": {
        "id": "JBznl9uWcGiP"
      },
      "source": [
        "This example is from the textbook. We are trying to find a root of $f(x)=x^3+x-1$."
      ]
    },
    {
      "cell_type": "code",
      "metadata": {
        "id": "s6yxg0K8cGiQ",
        "outputId": "483990f0-dddf-43f7-b69f-3ffe3f06c596",
        "colab": {
          "base_uri": "https://localhost:8080/",
          "height": 829
        }
      },
      "source": [
        "# These are the three functions proposed.\n",
        "g1 = lambda x: 1-x**3\n",
        "g2 = lambda x: (1-x)**(1/3)\n",
        "g3 = lambda x: (1+2*x**3)/(1+3*x**2)\n",
        "# Change the input function to evaluate different functions.\n",
        "# Are the three functions convergent fixed point iterations?\n",
        "fpi(g3, 0.75, 10, True)"
      ],
      "execution_count": 13,
      "outputs": [
        {
          "output_type": "stream",
          "text": [
            " i |     x_i      |    x_{i+1}   ||x_{i+1}-x_i| | e_{i+1}/e_i | e_{i+1}/e_i^2\n",
            "-----------------------------------------------------------------------------\n",
            " 0 | 0.7500000000 | 0.6860465116 | 0.0639534884 | 0.0000000000 | 0.0000000000\n",
            " 1 | 0.6860465116 | 0.6823395826 | 0.0037069290 | 0.0579628903 | 0.9063288301\n",
            " 2 | 0.6823395826 | 0.6823278039 | 0.0000117787 | 0.0031774687 | 0.8571700804\n",
            " 3 | 0.6823278039 | 0.6823278038 | 0.0000000001 | 0.0000100600 | 0.8540891497\n",
            " 4 | 0.6823278038 | 0.6823278038 | 0.0000000000 | 0.0000009369 | 7907.1801642964\n",
            " 5 | 0.6823278038 | 0.6823278038 | 0.0000000000 | 1.0000000000 | 9007199254740992.0000000000\n",
            " 6 | 0.6823278038 | 0.6823278038 | 0.0000000000 | 1.0000000000 | 9007199254740992.0000000000\n",
            " 7 | 0.6823278038 | 0.6823278038 | 0.0000000000 | 1.0000000000 | 9007199254740992.0000000000\n",
            " 8 | 0.6823278038 | 0.6823278038 | 0.0000000000 | 1.0000000000 | 9007199254740992.0000000000\n",
            " 9 | 0.6823278038 | 0.6823278038 | 0.0000000000 | 1.0000000000 | 9007199254740992.0000000000\n"
          ],
          "name": "stdout"
        },
        {
          "output_type": "display_data",
          "data": {
            "image/png": "[encoded data removed]",
            "text/plain": [
              "<Figure size 720x720 with 1 Axes>"
            ]
          },
          "metadata": {
            "tags": [],
            "needs_background": "light"
          }
        },
        {
          "output_type": "execute_result",
          "data": {
            "image/png": "[encoded data removed]",
            "text/latex": "$\\displaystyle 0.682327803828019$",
            "text/plain": [
              "0.6823278038280193"
            ]
          },
          "metadata": {
            "tags": []
          },
          "execution_count": 13
        }
      ]
    },
    {
      "cell_type": "code",
      "metadata": {
        "id": "O4dkJ74EcGiR",
        "outputId": "d3828f5f-c457-4d72-9db7-292918db99c4",
        "colab": {
          "base_uri": "https://localhost:8080/",
          "height": 829
        }
      },
      "source": [
        "# This is a \"hack\" to improve the convergence of g2!\n",
        "a  = -0.6\n",
        "g4 = lambda x: x+a*(x-g2(x))\n",
        "fpi(g4, 0.75, 10, True)\n",
        "# Why does this hack works?"
      ],
      "execution_count": 14,
      "outputs": [
        {
          "output_type": "stream",
          "text": [
            " i |     x_i      |    x_{i+1}   ||x_{i+1}-x_i| | e_{i+1}/e_i | e_{i+1}/e_i^2\n",
            "-----------------------------------------------------------------------------\n",
            " 0 | 0.7500000000 | 0.6779763150 | 0.0720236850 | 0.0000000000 | 0.0000000000\n",
            " 1 | 0.6779763150 | 0.6824480491 | 0.0044717341 | 0.0620869943 | 0.8620357907\n",
            " 2 | 0.6824480491 | 0.6823242405 | 0.0001238086 | 0.0276869349 | 6.1915431709\n",
            " 3 | 0.6823242405 | 0.6823279092 | 0.0000036687 | 0.0296324135 | 239.3404885671\n",
            " 4 | 0.6823279092 | 0.6823278007 | 0.0000001085 | 0.0295782485 | 8062.2187013180\n",
            " 5 | 0.6823278007 | 0.6823278039 | 0.0000000032 | 0.0295798537 | 272587.3459096886\n",
            " 6 | 0.6823278039 | 0.6823278038 | 0.0000000001 | 0.0295798272 | 9215295.8032791298\n",
            " 7 | 0.6823278038 | 0.6823278038 | 0.0000000000 | 0.0295799384 | 311541051.4653884768\n",
            " 8 | 0.6823278038 | 0.6823278038 | 0.0000000000 | 0.0295687236 | 10528180608.3659896851\n",
            " 9 | 0.6823278038 | 0.6823278038 | 0.0000000000 | 0.0294117647 | 354167948047.3809204102\n"
          ],
          "name": "stdout"
        },
        {
          "output_type": "display_data",
          "data": {
            "image/png": "[encoded data removed]",
            "text/plain": [
              "<Figure size 720x720 with 1 Axes>"
            ]
          },
          "metadata": {
            "tags": [],
            "needs_background": "light"
          }
        },
        {
          "output_type": "execute_result",
          "data": {
            "image/png": "[encoded data removed]",
            "text/latex": "$\\displaystyle 0.682327803828019$",
            "text/plain": [
              "0.6823278038280194"
            ]
          },
          "metadata": {
            "tags": []
          },
          "execution_count": 14
        }
      ]
    },
    {
      "cell_type": "markdown",
      "metadata": {
        "id": "zwNH-yGVcGiS"
      },
      "source": [
        "Now that we found the root, let's compute the derivative of each $g(x)$ used previously and understand what exactly was going on."
      ]
    },
    {
      "cell_type": "code",
      "metadata": {
        "id": "oziS7cHYcGiT",
        "outputId": "4716d797-56ae-4869-859c-6fb8cd7999e6",
        "colab": {
          "base_uri": "https://localhost:8080/"
        }
      },
      "source": [
        "g1p = lambda x: -3*x**2\n",
        "g2p = lambda x: -(1/3)*(1-x)**(-2/3)\n",
        "g3p = lambda x: ((1+3*x**2)*(6*x**2)-(1+2*x**3)*6*x)/((1+3*x**2)**2)\n",
        "g4p = lambda x: 1+a*(1-g2p(x))\n",
        "r=0.6823278038280194\n",
        "print('What is the conclusion then?')\n",
        "print([g1p(r), g2p(r), g3p(r), g4p(r)])"
      ],
      "execution_count": 15,
      "outputs": [
        {
          "output_type": "stream",
          "text": [
            "What is the conclusion then?\n",
            "[-1.3967136956303043, -0.7159663452349291, 0.0, -0.029579807140957426]\n"
          ],
          "name": "stdout"
        }
      ]
    },
    {
      "cell_type": "code",
      "metadata": {
        "id": "OQs90L1JcGiU",
        "outputId": "cc84f975-2108-4ad3-b142-58671d047f12",
        "colab": {
          "base_uri": "https://localhost:8080/"
        }
      },
      "source": [
        "# Or it may be better to apply the absolute value.\n",
        "print(np.abs([g1p(r), g2p(r), g3p(r), g4p(r)]))"
      ],
      "execution_count": 16,
      "outputs": [
        {
          "output_type": "stream",
          "text": [
            "[1.3967137  0.71596635 0.         0.02957981]\n"
          ],
          "name": "stdout"
        }
      ]
    },
    {
      "cell_type": "markdown",
      "metadata": {
        "nbpresent": {
          "id": "206edc54-dc0d-4831-a4c1-de99c755ca83"
        },
        "id": "F61Ch8wPcGiV"
      },
      "source": [
        "<div id='nm' />\n",
        "\n",
        "# Newton's Method\n",
        "[Back to TOC](#toc)\n",
        "\n",
        "The Newton's method also finds a root of a function $f(x)$ but it requires its derivative, i.e. $f'(x)$.\n",
        "The algorithm is as follows:\n",
        "\\begin{align*}\n",
        "    x_0 &= \\text{initial guess},\\\\\n",
        "    x_{i+1} &= x_i - \\dfrac{f(x_i)}{f'(x_i)}.\n",
        "\\end{align*}\n",
        "For roots with multiplicity equal to 1, Newton's method convergens quadratically. However, when the multiplicity is larger that 1, it will show linear convergence. Fortunately, we can modify Newton's method if we know the multiplicity of the root, say $m$, this is as follows:\n",
        "\\begin{align*}\n",
        "    x_0 &= \\text{initial guess},\\\\\n",
        "    x_{i+1} &= x_i - m\\,\\dfrac{f(x_i)}{f'(x_i)}.\n",
        "\\end{align*}\n",
        "This modified version will also show quadratic convergence!"
      ]
    },
    {
      "cell_type": "code",
      "metadata": {
        "nbpresent": {
          "id": "9aa7ed8c-a5f0-4474-a1f9-3faed0af85ba"
        },
        "id": "J0ZGUCIFcGiW"
      },
      "source": [
        "def newton_method(f, fp, x0, rel_error=1e-8, m=1, maxNumberIterations=100):\n",
        "    #Initialization of hybrid error and absolute\n",
        "    hybrid_error = 100\n",
        "    error_i = np.inf\n",
        "    \n",
        "    print('i |     x_i      |     x_{i+1}  |     |x_{i+1}-x_i|      |  e_{i+1}/e_i | e_{i+1}/e_i^2')\n",
        "    print('----------------------------------------------------------------------------------------')\n",
        "    \n",
        "    #Iteration counter\n",
        "    i = 1\n",
        "    while (hybrid_error > rel_error and hybrid_error < 1e12 and i<=maxNumberIterations):\n",
        "        #Newton's iteration\n",
        "        x1 = x0-m*f(x0)/fp(x0)\n",
        "        \n",
        "        #Checking if root was found\n",
        "        if f(x1) == 0.0:\n",
        "            hybrid_error = 0.0\n",
        "            break\n",
        "        \n",
        "        #Computation of hybrid error\n",
        "        hybrid_error = abs(x1-x0)/np.max([abs(x1),1e-12])\n",
        "        \n",
        "        #Computation of absolute error\n",
        "        error_iminus1 = error_i\n",
        "        error_i = abs(x1-x0)\n",
        "        \n",
        "        #Increasing counter\n",
        "        i += 1\n",
        "        \n",
        "        #Showing some info\n",
        "        print(\"%d | %.10f | %.10f | %.20f | %.10f | %.10f\" % \n",
        "              (i, x0, x1, error_i, error_i/error_iminus1, error_i/(error_iminus1**2)))\n",
        "        #Updating solution\n",
        "        x0 = x1\n",
        "    \n",
        "    #Checking if solution was obtained\n",
        "    if hybrid_error < rel_error: \n",
        "        return x1\n",
        "    elif i>=maxNumberIterations:\n",
        "        print('Newton''s Method did not converged. Too many iterations!!')\n",
        "        return None\n",
        "    else:\n",
        "        print('Newton''s Method did not converged!')\n",
        "        return None"
      ],
      "execution_count": 17,
      "outputs": []
    },
    {
      "cell_type": "markdown",
      "metadata": {
        "id": "xKbJyRRIcGiX"
      },
      "source": [
        "First example, let's compute a root of $\\sin(x)$, near $x_0=3.1$."
      ]
    },
    {
      "cell_type": "code",
      "metadata": {
        "nbpresent": {
          "id": "cd221273-2a77-491b-ba4c-7dce1842b806"
        },
        "id": "6_OnBeGvcGiY",
        "outputId": "470879e8-d306-4e13-8f3c-94cc2b1e2646",
        "colab": {
          "base_uri": "https://localhost:8080/"
        }
      },
      "source": [
        "alpha = float(input(\"Ingrese Alpha: \"))\n",
        "beta = float(input(\"Ingrese Beta: \"))\n",
        "# Example funtion\n",
        "f= lambda x: alpha*np.cos(x)+beta*np.sin(np.log(x))\n",
        "# The derivative of f\n",
        "fp= lambda x: (beta*np.cos(np.log(x)))/(x) - alpha*np.sin(x)\n",
        "result = newton_method(f, fp, 20,rel_error=1e-15)\n",
        "\n",
        "if result < 0:\n",
        "  result = result * -1\n",
        "distance = 0\n",
        "\n",
        "while distance != 25 - result:\n",
        "  distance = 25 - result\n",
        "  result2 = bisect(f,25 - distance,25 + distance)\n",
        "\n",
        "  if result2 == False:\n",
        "    print(result)\n",
        "  else:\n",
        "    result = result2\n",
        "\n",
        "  if result < 0:\n",
        "    result = result * -1\n",
        "  distance = 25 - result\n",
        "\n"
      ],
      "execution_count": 59,
      "outputs": [
        {
          "output_type": "stream",
          "text": [
            "Ingrese Alpha: 5\n",
            "Ingrese Beta: 6\n",
            "i |     x_i      |     x_{i+1}  |     |x_{i+1}-x_i|      |  e_{i+1}/e_i | e_{i+1}/e_i^2\n",
            "----------------------------------------------------------------------------------------\n",
            "2 | 20.0000000000 | 20.5990843027 | 0.59908430273907598007 | 0.0000000000 | 0.0000000000\n",
            "3 | 20.5990843027 | 20.5621514362 | 0.03693286654868543906 | 0.0616488637 | 0.1029051562\n",
            "4 | 20.5621514362 | 20.5622608604 | 0.00010942418651538333 | 0.0029627862 | 0.0802208562\n",
            "5 | 20.5622608604 | 20.5622608612 | 0.00000000082180662275 | 0.0000075103 | 0.0686345805\n",
            "6 | 20.5622608612 | 20.5622608612 | 0.00000000000000000000 | 0.0000000000 | 0.0000000000\n",
            "20.562260861198713 29.437739138801287\n",
            "f(a)f(b)<0 not satisfied!\n",
            "20.562260861198713\n"
          ],
          "name": "stdout"
        }
      ]
    },
    {
      "cell_type": "markdown",
      "metadata": {
        "id": "VkGwtUMicGiY"
      },
      "source": [
        "Now, we will look at the example when Newton's method shows linear convergence."
      ]
    },
    {
      "cell_type": "code",
      "metadata": {
        "id": "15BskxKecGiZ"
      },
      "source": [
        "f = lambda x: x**2\n",
        "fp = lambda x: 2*x # the derivative of f\n",
        "newton_method(f, fp, 3.1, rel_error=1e-1, m=3, maxNumberIterations=10)"
      ],
      "execution_count": null,
      "outputs": []
    },
    {
      "cell_type": "markdown",
      "metadata": {
        "id": "c_tAPPxjcGia"
      },
      "source": [
        "e_{i+1}/e_i=S=(m-1)/m -> e_{i+1}/e_i=(m-1)/m -> 0.5=(m-1)/m -> m=2"
      ]
    },
    {
      "cell_type": "code",
      "metadata": {
        "id": "vAyuTvM1cGib"
      },
      "source": [
        "newton_method(f, fp, 3.1, rel_error=1e-1, m=2, maxNumberIterations=10)"
      ],
      "execution_count": null,
      "outputs": []
    },
    {
      "cell_type": "markdown",
      "metadata": {
        "id": "eaNs1nxHcGic"
      },
      "source": [
        "<div id='wilkinson' />\n",
        "\n",
        "# Wilkinson Polynomial\n",
        "[Back to TOC](#toc)\n",
        "\n",
        "https://en.wikipedia.org/wiki/Wilkinson%27s_polynomial\n",
        "\n",
        "**Final question: Why is the root far far away from $16$?**"
      ]
    },
    {
      "cell_type": "code",
      "metadata": {
        "id": "ogRHwYNYcGic"
      },
      "source": [
        "x = sym.symbols('x', reals=True)\n",
        "W=1\n",
        "for i in np.arange(1,21):\n",
        "        W*=(x-i)\n",
        "W # Printing W nicely"
      ],
      "execution_count": null,
      "outputs": []
    },
    {
      "cell_type": "code",
      "metadata": {
        "id": "fDcf9k3scGid"
      },
      "source": [
        "# Expanding the Wilkinson polynomial\n",
        "We=sym.expand(W)\n",
        "We "
      ],
      "execution_count": null,
      "outputs": []
    },
    {
      "cell_type": "code",
      "metadata": {
        "id": "PbxG-_R3cGif"
      },
      "source": [
        "# Just computiong the derivative\n",
        "Wep=sym.diff(We,x)\n",
        "Wep"
      ],
      "execution_count": null,
      "outputs": []
    },
    {
      "cell_type": "code",
      "metadata": {
        "id": "lIo4O75ycGig"
      },
      "source": [
        "# Lamdifying the polynomial to be used with sympy\n",
        "P=sym.lambdify(x,We)\n",
        "Pp=sym.lambdify(x,Wep)"
      ],
      "execution_count": null,
      "outputs": []
    },
    {
      "cell_type": "code",
      "metadata": {
        "id": "wBfwmLW_cGig"
      },
      "source": [
        "# Using scipy function to compute a root\n",
        "root = optimize.newton(P,16)\n",
        "print(root)"
      ],
      "execution_count": null,
      "outputs": []
    },
    {
      "cell_type": "code",
      "metadata": {
        "id": "h7MJmUfocGih"
      },
      "source": [
        "newton_method(P, Pp, 16.01, rel_error=1e-10, maxNumberIterations=10)"
      ],
      "execution_count": null,
      "outputs": []
    },
    {
      "cell_type": "markdown",
      "metadata": {
        "id": "tJE9UMRNcGii"
      },
      "source": [
        "<div id='acknowledgements' />\n",
        "\n",
        "# Acknowledgements\n",
        "[Back to TOC](#toc)\n",
        "\n",
        "* _Material created by professor Claudio Torres_ (`ctorres@inf.utfsm.cl`) _and assistants: Laura Bermeo, Alvaro Salinas, Axel Simonsen and Martín Villanueva. DI UTFSM. March 2016._ v1.1.\n",
        "* _Update April 2020 - v1.32 - C.Torres_ : Re-ordering the notebook.\n",
        "* _Update April 2021 - v1.33 - C.Torres_ : Updating format and re-re-ordering the notebook. Adding 'maxNumberIterations' to bisection, fpi and Newton's method. Adding more explanations.\n",
        "* _Update April 2021 - v1.33 - C.Torres_ : Updating description and solution of 'Proposed classwork'."
      ]
    },
    {
      "cell_type": "markdown",
      "metadata": {
        "id": "cDQrtL3ycGij"
      },
      "source": [
        "<div id='extraexamples' />\n",
        "\n",
        "# Extra examples\n",
        "[Back to TOC](#toc)"
      ]
    },
    {
      "cell_type": "markdown",
      "metadata": {
        "id": "YAxEq1vHcGik"
      },
      "source": [
        "## Propose Classwork\n",
        "1. Build a FPI such that given $a$ computes $\\displaystyle \\frac{1}{a}$. The constraint is that you can't use a division in the 'final' FPI. Write down your solution below or go and see the [solution](#sol1). \n",
        "\n",
        "_Hint: I strongly suggest to use Newton's method._"
      ]
    },
    {
      "cell_type": "code",
      "metadata": {
        "id": "KwAVr_17cGik"
      },
      "source": [
        "print('Please try to solve it before you see the solution!!!')"
      ],
      "execution_count": null,
      "outputs": []
    },
    {
      "cell_type": "markdown",
      "metadata": {
        "id": "YTfRefgBcGil"
      },
      "source": [
        "2. Build an algorithm that computes $\\log(x_i)$ for $x_i=0.1*i+0.5$, for $i\\in{0,1,2,\\dots,10}$. The only special function available is $\\exp(x)$, in particular use _np.exp(x)_. You can also use $*$, $÷$, $+$, and $-$. It would be nice to use the result from previous example to replace $÷$."
      ]
    },
    {
      "cell_type": "markdown",
      "metadata": {
        "id": "x9BUJNAtcGim"
      },
      "source": [
        "# In class"
      ]
    },
    {
      "cell_type": "markdown",
      "metadata": {
        "id": "dJnEt_tKcGin"
      },
      "source": [
        "Which function shows quadratic convergence? Why?"
      ]
    },
    {
      "cell_type": "code",
      "metadata": {
        "id": "BqBsCPQMcGin"
      },
      "source": [
        "g1 = lambda x: (4./5.)*x+1./x\n",
        "g2 = lambda x: x/2.+5./(2*x)\n",
        "g3 = lambda x: (x+5.)/(x+1)\n",
        "fpi(g1, 3.0, 10, True)"
      ],
      "execution_count": null,
      "outputs": []
    },
    {
      "cell_type": "markdown",
      "metadata": {
        "id": "GoxXl23ycGio"
      },
      "source": [
        "### Building a FPI to compute the cubic root of 7"
      ]
    },
    {
      "cell_type": "code",
      "metadata": {
        "id": "OhydSYfTcGip"
      },
      "source": [
        "# What is 'a'? Can we find another 'a'?\n",
        "a = -3*(1.7**2)\n",
        "print(a)"
      ],
      "execution_count": null,
      "outputs": []
    },
    {
      "cell_type": "code",
      "metadata": {
        "id": "dCf-GXcTcGiq"
      },
      "source": [
        "f = lambda x: x**3-7\n",
        "g =  lambda x: f(x)/a+x\n",
        "r=fpi(g, 1.7, 14, True)\n",
        "print(f(r))"
      ],
      "execution_count": null,
      "outputs": []
    },
    {
      "cell_type": "markdown",
      "metadata": {
        "id": "Dft1NMu3cGir"
      },
      "source": [
        "### Playing with some roots"
      ]
    },
    {
      "cell_type": "markdown",
      "metadata": {
        "id": "bR3nL4RCcGir"
      },
      "source": [
        "The following example proposed a particular function $f(x)$. \n",
        "The idea here is first obtain an initial guess for applying the Newton's method from the plot in semilogy scale.\n",
        "The plot of $f(x)$ (blue) shows that there seems to be 2 roots in the interval plotted.\n",
        "Now, the plot of $f'(x)$ (magenta) indicates that the derivative may also have a 0 together with a root, this means that the multiplicity of that root may be higher than 1. How can we find out that? "
      ]
    },
    {
      "cell_type": "code",
      "metadata": {
        "id": "uogYR1oJcGis"
      },
      "source": [
        "f = lambda x: 8*x**4-12*x**3+6*x**2-x\n",
        "fp = lambda x: 32*x**3-36*x**2+12*x-1\n",
        "\n",
        "x = np.linspace(-1,1,10000)\n",
        "plt.figure(figsize=(10,10))\n",
        "\n",
        "plt.title('What are we seeing with the semiloigy plot? Is this function differentiable?')\n",
        "plt.semilogy(x,np.abs(f(x)),'b-',label=r'$|f(x)|$')\n",
        "plt.semilogy(x,np.abs(fp(x)),'m-',label=r'$|fp(x)|$')\n",
        "plt.grid()\n",
        "plt.legend()\n",
        "plt.xlabel(r'$x$',fontsize=16)\n",
        "plt.show()"
      ],
      "execution_count": null,
      "outputs": []
    },
    {
      "cell_type": "code",
      "metadata": {
        "scrolled": false,
        "id": "4VlN-B-TcGit"
      },
      "source": [
        "r=newton_method(f, fp, 0.4, rel_error=1e-8, m=1)\n",
        "print([r,f(r)])\n",
        "# Is this showing quadratic convergence? If not, can you fix it?"
      ],
      "execution_count": null,
      "outputs": []
    },
    {
      "cell_type": "markdown",
      "metadata": {
        "id": "gr1PicP4cGiu"
      },
      "source": [
        "<div id='sol1' />\n",
        "\n",
        "## Solutions\n",
        "Problem: Build a FPI such that given $a$ computes $\\displaystyle \\frac{1}{a}$"
      ]
    },
    {
      "cell_type": "code",
      "metadata": {
        "scrolled": false,
        "id": "0M6qVtEZcGiv"
      },
      "source": [
        "# We are finding the 1/a\n",
        "# Solution code:\n",
        "a = 2.1\n",
        "g = lambda x: 2*x-a*x**2\n",
        "gp = lambda x: 2-2*a*x\n",
        "r=fpi(g, 0.7, 7, flag_cobweb=False)\n",
        "print('Reciprocal found :',r)\n",
        "print('Reciprocal computed explicitly: ', 1/a)\n",
        "# Are we seeing quadratic convergence?"
      ],
      "execution_count": null,
      "outputs": []
    },
    {
      "cell_type": "markdown",
      "metadata": {
        "id": "Kq356_fRcGiw"
      },
      "source": [
        "### What is this plot telling us?"
      ]
    },
    {
      "cell_type": "markdown",
      "metadata": {
        "id": "rUbGS7jrcGiw"
      },
      "source": [
        "This plots shows that, even if we don't know the exact value of $g'(r)$, we can determine if the FPI will convergan by looking at the plot.\n",
        "In this plot we observe that when plotting $g'(x)$ (magenta), we can determine that the value of $|g'(r)|$ will be less than 1 since it is between the black lines, that are located at $y=-1$ and $y=1$."
      ]
    },
    {
      "cell_type": "code",
      "metadata": {
        "id": "0v_Sz44DcGix"
      },
      "source": [
        "xx=np.linspace(0.2,0.8,1000)\n",
        "plt.figure(figsize=(10,10))\n",
        "plt.plot(xx,g(xx),'r-',label=r'$g(x)$')\n",
        "plt.plot(xx,gp(xx),'m-',label=r'$gp(x)$')\n",
        "plt.plot(xx,xx,'b-',label=r'$x$')\n",
        "plt.plot(xx,0*xx+1,'k--')\n",
        "plt.plot(xx,0*xx-1,'k--')\n",
        "plt.legend(loc='best')\n",
        "plt.grid()\n",
        "plt.show()"
      ],
      "execution_count": null,
      "outputs": []
    },
    {
      "cell_type": "code",
      "metadata": {
        "id": "1XgBAhGHcGiy"
      },
      "source": [
        ""
      ],
      "execution_count": null,
      "outputs": []
    }
  ]
}