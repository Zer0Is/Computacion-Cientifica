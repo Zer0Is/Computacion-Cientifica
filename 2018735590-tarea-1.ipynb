{
  "nbformat": 4,
  "nbformat_minor": 0,
  "metadata": {
    "colab": {
      "name": "201873559-0-tarea-1.ipynb",
      "provenance": [],
      "collapsed_sections": [],
      "include_colab_link": true
    },
    "kernelspec": {
      "name": "python3",
      "display_name": "Python 3"
    },
    "language_info": {
      "name": "python"
    }
  },
  "cells": [
    {
      "cell_type": "markdown",
      "metadata": {
        "id": "view-in-github",
        "colab_type": "text"
      },
      "source": [
        "<a href=\"https://colab.research.google.com/github/Zer0Is/Computacion-Cientifica/blob/main/2018735590-tarea-1.ipynb\" target=\"_parent\"><img src=\"https://colab.research.google.com/assets/colab-badge.svg\" alt=\"Open In Colab\"/></a>"
      ]
    },
    {
      "cell_type": "markdown",
      "metadata": {
        "id": "43Vts_4heTac"
      },
      "source": [
        "## Instrucciones\n",
        "\n",
        "* La tarea es individual, sin embargo se invita a todos l@s estudiantes a que discutan entre ustedes las preguntas pero luego implementen de forma individual su tarea.\n",
        "* Las consultas sobre las tareas se deben realizar por medio de la plataforma Aula.\n",
        "* La tarea debe ser realizada en `Jupyter Notebook` (`Python3`).\n",
        "* Se evaluará la correcta utilización de librerias `NumPy`, `SciPy`, entre otras, así como la correcta implementación de algoritmos de forma vectorizada.\n",
        "* **No modifique la firma de las funciones** (a menos que se le diga lo contrario) y respete el output que se le exije. **En caso de no respetar esta regla la función se considerará errónea.**\n",
        "*  **El archivo de entrega debe denominarse ROL-tarea-numero.ipynb**. _De no respetarse este formato existirá un descuento de **50 puntos**_\n",
        "* La fecha de entrega es el jueves 6 de mayo a las **18:00 hrs**.  \n",
        "* Debe citar cualquier código ajeno utilizado (incluso si proviene de los Jupyter Notebooks del curso).\n",
        "* Puede agregar funciones extras siempre y cuando **no interfieran en las firmas** de las funciones principales establecidas."
      ]
    },
    {
      "cell_type": "markdown",
      "metadata": {
        "id": "5ubb21vbeEv-"
      },
      "source": [
        "### 1. Simulador (60 ptos) \n",
        "\n",
        "Dada la familia de polinomios de grado 3 con la forma:\n",
        "\n",
        "\n",
        "\\begin{equation}\n",
        "f(x)=-1 + x + 2 A^2 x - 3 A^2 x^2 + A^2 x^3\n",
        "\\end{equation}\n",
        "\n",
        "Se pide implementar un algoritmo que reciba como parámetros el valor de $A$ (con $|A|>>1$), 'bits_mant' que corresponde a la cantidad de bits que tiene la mantisa y 'bits_exp' que corresponde a la cantidad de bits que tiene el exponente. \n",
        "El algoritmo se ejecutará en un computador ficticio que representa los números con esa cantidad de bits para el estándar de punto flotante IEEE. \n",
        "Debe controlar los casos especiales correctamente.\n",
        "Esta implementación debe calcular las raíces de $f$ sin pérdida de **importancia** con la cantidad de bits disponibles para la mantisa y la cantidad de bits para el exponente.\n",
        "Para obtener las raíces de $f$ usted debe encontrar de forma algebraica sus raíces y luego proponer un algoritmo basado en las _fórmulas_ obtenidas.\n",
        "\n",
        "El computador ficticio cuenta con las operaciones matemáticas necesarias para obtener las raíces. \n",
        "Considere como límites de bits para la mantisa en el intervalo $[2,52]$ y en el intervalo $[2,11]$ para los bits del exponente."
      ]
    },
    {
      "cell_type": "markdown",
      "metadata": {
        "id": "cDjbWwdg_BwT"
      },
      "source": [
        "##Análisis:\n",
        "Dado que es un polinomio de grado 3, este debe tener 3 soluciones posibles, por ende se puede factorizar, una de las soluciones se encuentra por el metódo de Ruffini, donde da como solución x = 1, el polinomio queda:\n",
        "\n",
        "\\begin{equation}\n",
        "f(x)=(x-1)(A^2x^2-2A^2x+1)\n",
        "\\end{equation}\n",
        "\n",
        "Luego, el polinomio restante es de grado 2, por ende, se aplica la ecuación:\n",
        "\n",
        "\\begin{equation}\n",
        "\\frac{-b \\pm \\sqrt{b^2-4ac}}{2a}\n",
        "\\end{equation}\n",
        "\n",
        "Donde \n",
        "\\begin{equation}\n",
        "a = A^2\n",
        "\\end{equation}\n",
        "\\begin{equation}\n",
        "b = -2A^2;\n",
        "\\end{equation}\n",
        "\\begin{equation}\n",
        "c = 1\n",
        "\\end{equation}        \n",
        "\n",
        "Las soluciones son:\n",
        "\\begin{equation}\n",
        "x1 = 1 + \\frac{\\sqrt{A^2-1}}{A}  \n",
        "\\end{equation}\n",
        "\\begin{equation} \n",
        "x2 = 1 - \\frac{\\sqrt{A^2-1}}{A}\n",
        "\\end{equation} \n",
        "\n",
        "Además esta la condición donde A>>1, por ende se puede concluir que:\n",
        "\\begin{equation} \n",
        "\\sqrt{A^2-1} \\approx A\n",
        "\\end{equation}\n",
        "\n",
        "Por lo tanto:\n",
        "\\begin{equation} \n",
        "x1 = 2\n",
        "\\end{equation}\n",
        "\\begin{equation} \n",
        "x2 = 0\n",
        "\\end{equation}\n",
        "\n",
        "La Factorización final queda:\n",
        "Por lo tanto:\n",
        "\\begin{equation} \n",
        "(x-1)(x-2)x\n",
        "\\end{equation}"
      ]
    },
    {
      "cell_type": "code",
      "metadata": {
        "colab": {
          "base_uri": "https://localhost:8080/"
        },
        "id": "0tRZ5JczBeYT",
        "outputId": "2215e058-4590-491b-8d5b-63a47222ea35"
      },
      "source": [
        "!pip install bitstring"
      ],
      "execution_count": 16,
      "outputs": [
        {
          "output_type": "stream",
          "text": [
            "Requirement already satisfied: bitstring in /usr/local/lib/python3.7/dist-packages (3.1.7)\n"
          ],
          "name": "stdout"
        }
      ]
    },
    {
      "cell_type": "code",
      "metadata": {
        "colab": {
          "base_uri": "https://localhost:8080/"
        },
        "id": "VljWRhKjo6bA",
        "outputId": "a515c8a2-9267-4d84-9070-d80b44c308e1"
      },
      "source": [
        "import bitstring as bs\n",
        "import numpy as np\n",
        "\"\"\"\n",
        "input\n",
        "x         : (double) valor a evaluar\n",
        "bits_mant : (int) cantidad de bits de la mantisa\n",
        "bits_exp  : (int) cantidad de bits del exponente\n",
        "output\n",
        "result      : (double) resultado obtenido\n",
        "\"\"\"\n",
        "#Ref[1]\n",
        "def f_new_rep(x,bits_mant,bits_exp):\n",
        "  \n",
        "  #iniciamos resultado en 0\n",
        "  result = 0\n",
        "\n",
        "  #Transforma numero en punto flotante con doble precision\n",
        "  b = bs.pack('>d', x)\n",
        "  b = b.bin\n",
        "  mantisa = b[12:]\n",
        "  print(b[0]+' '+b[1:12]+ ' '+b[12:])\n",
        "\n",
        "  #Vemos la mantisa\n",
        "  #Vemos si es necesario truncar o no la mantisa\n",
        "  if bits_mant < 52:\n",
        "\n",
        "    #Se revisa el ultimo bit de la \"nueva\" mantisa\n",
        "    #es un \"0\"\n",
        "    if b[11+bits_mant] == '0':\n",
        "      \n",
        "      #Si el primer elemento fuera de la \"nueva\" mantisa es un \"0\"\n",
        "      #simplemente se trunca la mantisa segun \"bits_mant\"\n",
        "      if b[12+bits_mant] == '0':\n",
        "        mantisa = b[12:12+bits_mant]\n",
        "      \n",
        "      #Si es un \"1\", hay que ver si es el caso \"1000000\", es decir, \"justo en la mitad\"\n",
        "\n",
        "      #Si hay algun \"1\" despues del primer \"1\", tipo -> \"1000001000\"\n",
        "      #se le debe sumar \"1\" a la mantisa\n",
        "      elif '1' in b[13+bits_mant:]:\n",
        "        for bit in range(11+bits_mant,11,-1): #13 a 12\n",
        "          \n",
        "          #Se encuentra el \"primer cero\" desde derecha de la mantisa hacia la izquierda\n",
        "          if b[bit] == '0':\n",
        "            #mantienen bits hasta el que hay que cambiar(sin considerarlo)\n",
        "            #agrega el '1' que reemplaza al '0' encontrado\n",
        "            #se agrega los '0' restantes para completar la nueva mantisa\n",
        "            mantisa = b[12:bit] + '1' + '0'*(bits_mant-bit)\n",
        "            break\n",
        "\n",
        "      #En caso contrario solo se trunca \"hacia abajo\"\n",
        "      else:\n",
        "        mantisa = b[12:12+bits_mant]\n",
        "    \n",
        "    #es un \"1\"\n",
        "    else:\n",
        "      #Si el primer elemento fuera de la \"nueva\" mantisa es un \"1\"\n",
        "      #simplemente se suma un \"1\" a la \"nueva\" mantisa\n",
        "      if b[12+bits_mant] == '1':\n",
        "        for bit in range(11+bits_mant,11,-1):\n",
        "          #Se encuentra el \"primer cero\" desde derecha de la mantisa hacia la izquierda\n",
        "          if b[bit] == '0':\n",
        "            mantisa = b[12:bit] + '1' + '0'*(bits_mant-bit)\n",
        "            break\n",
        "\n",
        "          #Se evita el OverFlow\n",
        "          if bit==12:\n",
        "            mantisa = b[12:12+bits_mant]\n",
        "      #En caso contrario solo se mantiene la mantisa nueva segun la cantidad de bits que se mencionan con \"bits_mant\"\n",
        "      else:\n",
        "        mantisa = b[12:12+bits_mant]\n",
        "    print(\"Mantisa\",mantisa,\"con\",bits_mant,\"bits\")\n",
        "\n",
        "#Vemos el exponente\n",
        "\n",
        "  #vemos cual es el  maximo que podemos representar con el exponente en decimal (dado los bits del exponente)\n",
        "  exponente_maximo = int('1'*bits_exp,2) - (2**(bits_exp-1)-1)\n",
        "  #vemos el exponente que tiene el numero en decimal\n",
        "  exponente_numero = int(b[1:12],2) - (2**(11-1)-1)\n",
        "\n",
        "  #print(\"\\nexp max es\", exponente_maximo,\"con\",bits_exp,\"bits de exponente\")\n",
        "  #print(\"exp numero es\", exponente_numero,\"con 11 bits de exponente\")\n",
        "\n",
        "  #se ve si el numero a representar \"cabe\" con los bits que nos dan\n",
        "\n",
        "  #Caso donde no \"cabe\" el numero con los nuevos bits disponibles\n",
        "  if exponente_maximo < exponente_numero: \n",
        "    \n",
        "    if b[0]=='1':\n",
        "      return -np.inf\n",
        "    else:\n",
        "      return np.inf\n",
        "    print(\"el exponente final es\",exponente,\"la mantisa es\",m,\"el resultado es\",result,\"\\n\")\n",
        "  \n",
        "  \n",
        "  #caso especial exponente tiene solo numeros \"1\"\n",
        "  elif exponente_maximo == exponente_numero:\n",
        "    \n",
        "    #caso donde signo positivo y mantisa solo son \"0\"\n",
        "    if (m.count('0') == len(m)) and b[0] == '0':\n",
        "      return np.inf\n",
        "    \n",
        "    #caso donde signo es negativo y mantisa solo tiene \"0\"\n",
        "    elif (m.count('0') == len(m)) and b[0] == '1':\n",
        "      return -np.inf\n",
        "\n",
        "    #caso donde mantisa tiene algun \"1\"\n",
        "    elif m.count('1') != 0:\n",
        "      return None #NaN\n",
        "\n",
        "  #caso especial exponente tiene solo numeros \"0\"\n",
        "  elif int(b[1:12],2) == 0:\n",
        "    #Numeros sub-normales\n",
        "    print(\"si\")\n",
        "\n",
        "  #Caso donde si cabe el numero y no es un caso especial\n",
        "  else:\n",
        "    #Convertir numero\n",
        "    mantisa = '1'+ mantisa\n",
        "\n",
        "    for iterador in range(0, len(mantisa), 1):   \n",
        "      if mantisa[iterador] == '1':\n",
        "        result += 2**(exponente_numero - iterador)\n",
        "  if b[0] == '1':\n",
        "    result = result*-1\n",
        "  \n",
        "  return  result\n",
        "\n",
        "f_new_rep(209,2,11)"
      ],
      "execution_count": 66,
      "outputs": [
        {
          "output_type": "stream",
          "text": [
            "0 10000000110 1010001000000000000000000000000000000000000000000000\n",
            "Mantisa 11 con 2 bits\n"
          ],
          "name": "stdout"
        },
        {
          "output_type": "execute_result",
          "data": {
            "text/plain": [
              "224"
            ]
          },
          "metadata": {
            "tags": []
          },
          "execution_count": 66
        }
      ]
    },
    {
      "cell_type": "code",
      "metadata": {
        "id": "mSlaF1FRIa1x"
      },
      "source": [
        "\"\"\"\n",
        "input\n",
        "n1        : (double) valor a sumar\n",
        "n2        : (double) valor a sumar\n",
        "bits_mant : (int) cantidad de bits de la mantisa\n",
        "bits_exp  : (int) cantidad de bits del exponente\n",
        "output\n",
        "result      : (double) resultado obtenido\n",
        "\"\"\"\n",
        "def f_suma(n1,n2,bits_mant,bits_exp):\n",
        "    #Algoritmo que calcula la suma de dos numeros manteniendo el estandar asignado\n",
        "    result = f_new_rep(n1+n2,bits_mant,bits_exp)\n",
        "    return result\n",
        "\n",
        "\"\"\"\n",
        "input\n",
        "n1        : (double) valor a multiplicar\n",
        "n2        : (double) valor a multiplicar\n",
        "bits_mant : (int) cantidad de bits de la mantisa\n",
        "bits_exp  : (int) cantidad de bits del exponente\n",
        "output\n",
        "result      : (double) resultado obtenido\n",
        "\"\"\"\n",
        "def f_multiplicacion(n1,n2,bits_mant,bits_exp):\n",
        "    #Algoritmo que calcula la multiplicación de dos numeros manteniendo el estandar asignado\n",
        "    result = f_new_rep(n1*n2,bits_mant,bits_exp)\n",
        "    return result\n",
        "\n",
        "\"\"\"\n",
        "input\n",
        "n1        : (double) valor a multiplicar\n",
        "n2        : (double) valor a multiplicar\n",
        "bits_mant : (int) cantidad de bits de la mantisa\n",
        "bits_exp  : (int) cantidad de bits del exponente\n",
        "output\n",
        "result      : (double) resultado obtenido\n",
        "\"\"\"\n",
        "def f_division(n1,n2,bits_mant,bits_exp):\n",
        "    #Algoritmo que calcula la división de dos numeros manteniendo el estandar asignado\n",
        "    result = f_new_rep(n1/n2,bits_mant,bits_exp)\n",
        "    return result\n",
        "\n",
        "\"\"\"\n",
        "input\n",
        "A         : (double) valor a evaluar\n",
        "bits_mant : (int) cantidad de bits de la mantisa\n",
        "bits_exp  : (int) cantidad de bits del exponente\n",
        "output\n",
        "x_roots      : (array) raices del polinomio ordenadas de menor a mayor\n",
        "\"\"\"\n",
        "def f_find_roots(A,bits_mant,bits_exp):\n",
        "    # Algoritmo para encontrar raíces de f(x).\n",
        "    return x_roots"
      ],
      "execution_count": 33,
      "outputs": []
    },
    {
      "cell_type": "code",
      "metadata": {
        "colab": {
          "base_uri": "https://localhost:8080/",
          "height": 102
        },
        "id": "0YSx--naTYFT",
        "outputId": "40510aa1-a460-4d46-a6d5-82b2e0ecccca"
      },
      "source": [
        "\n",
        "# Algoritmo de ejemplo\n",
        "a = 9819824.624837\n",
        "b = 148736.523476\n",
        "c = a+b\n",
        "\n",
        "bits_mant = 52#PARAMETRO A CAMBIAR\n",
        "bits_exp = 11 #PARAMETRO A CAMBIAR\n",
        "\n",
        "# Implementación de ejemplo con Representación de Punto Flotante de 'bits_mant' bits en la mantisa y 'bits_exp' bits en el exponente.\n",
        "am = f_new_rep(9819824.624837,bits_mant,bits_exp) # Aproximar el input en la nueva representación.\n",
        "bm = f_new_rep(148736.523476,bits_mant,bits_exp) # Aproximar el input en la nueva representación.\n",
        "cm = f_suma(am,bm,bits_mant,bits_exp) # Aproximar el output de la suma y cada operación en la nueva representación.\n",
        "\n",
        "print(am,bm,cm)\n",
        "\"\"\"\n",
        "print(\"division\", f_division(40,45,3,3))\n",
        "print(\"suma\", f_suma(40,45,3,3))\n",
        "print(\"multiplicacion\", f_multiplicacion(40,45,3,3))\n",
        "\"\"\""
      ],
      "execution_count": 67,
      "outputs": [
        {
          "output_type": "stream",
          "text": [
            "0 10000010110 0010101110101101011000010011111111101010101000101010\n",
            "0 10000010000 0010001010000000010000110000000101000010111101100010\n",
            "0 10000010110 0011000000110111011000100100101111101111101011101000\n",
            "9819824.624837 148736.523476 9968561.148313\n"
          ],
          "name": "stdout"
        },
        {
          "output_type": "execute_result",
          "data": {
            "application/vnd.google.colaboratory.intrinsic+json": {
              "type": "string"
            },
            "text/plain": [
              "'\\nprint(\"division\", f_division(40,45,3,3))\\nprint(\"suma\", f_suma(40,45,3,3))\\nprint(\"multiplicacion\", f_multiplicacion(40,45,3,3))\\n'"
            ]
          },
          "metadata": {
            "tags": []
          },
          "execution_count": 67
        }
      ]
    },
    {
      "cell_type": "markdown",
      "metadata": {
        "id": "X3xXFhkGpcOG"
      },
      "source": [
        "### 2. Sinusoidal de Oreman (40 puntos)\n",
        "Considere la siguiente función en 3 variables:\n",
        "T(t,α,β)=α⋅cos(t)+β⋅sin(log(t)). \n",
        "\n",
        "La cual permite calcular la temperatura de una cámara de ambiente dado los parámetros  α  y  β  los cuales corresponden a las condiciones iniciales del experimento. Por otro lado  t  representa el tiempo en días transcurridos desde que se inició.\n",
        "\n",
        "A usted le permiten utilizar la cámara por un tiempo limitado, para esto planea terminar a los 25 días pero debe asegurarse que las sustancias sean extraídas a temperatura 0.\n",
        "\n",
        "Cree un programa que reciba los parametros  α  y  β  y que retorne el día en el cual deba ser extraído el material cumpliendo la condición de ser el día más cercano a 25 (ya sea antes o después).\n"
      ]
    },
    {
      "cell_type": "markdown",
      "metadata": {
        "id": "8-RJwWjn6pIg"
      },
      "source": [
        "Explicación:\n",
        "\n",
        "En primer lugar, sabemos para que valor de \"x\" (o cercano a este) debe haber una raiz, este valor es 25.\n",
        "\n",
        "En segundo lugar, notamos que la función de por si tiene raices cerca al menos, e incluso a través de su portomaniento en general, se puede determinar que entre un rango de valores, si o si debe haber una raiz, para este caso puntual el rango inicial es [22,27].\n",
        "\n",
        "En tercer lugar, dado el intervalo previamente definido, se utiliza el metódo de la bisección, ya que ya poseeemos una referncia de donde se encuentran las raices. Este metódo, en caso de encontrarse con dos soluciones de igual signo, procede a llamar recursivamente al metódo, no obstante, se acota el intervalo en 0.5 cada extremo, esto provoca que busque la solución tal que tengan diferente signo, finalemnte retorna el valor."
      ]
    },
    {
      "cell_type": "code",
      "metadata": {
        "id": "cZuFhpMKf-2H"
      },
      "source": [
        "#Función Auxiliar\n",
        "\n",
        "#Ref[2]\n",
        "def bisect(f, a, b, tol, maxNumberIterations=100):\n",
        "    fa = f(a)\n",
        "    fb = f(b)\n",
        "    i = 0\n",
        "    # Just checking if the sign is not negative => not root  necessarily \n",
        "    if np.sign(f(a)*f(b)) >= 0:\n",
        "        return np.double(bisect(f,a+0.5,b-0.5,tol))\n",
        "    \n",
        "    while ((b-a)/2 > tol) and i<=maxNumberIterations:\n",
        "        c = (a+b)/2.\n",
        "        fc = f(c)\n",
        "        # Did we find the root?\n",
        "        if fc == 0:\n",
        "            print('f(c)==0')\n",
        "            break\n",
        "        elif np.sign(fa*fc) < 0:\n",
        "            b = c\n",
        "            fb = fc\n",
        "        else:\n",
        "            a = c\n",
        "            fa = fc\n",
        "        i += 1\n",
        "        \n",
        "    xc = (a+b)/2.\n",
        "    return np.double(xc)   \n"
      ],
      "execution_count": 19,
      "outputs": []
    },
    {
      "cell_type": "code",
      "metadata": {
        "colab": {
          "base_uri": "https://localhost:8080/"
        },
        "id": "6z6kICbk1NZr",
        "outputId": "487e2684-4ee6-438e-9c6f-9349f76b6c1f"
      },
      "source": [
        "\n",
        "\"\"\"\n",
        "input\n",
        "alpha: (float) parametro alpha\n",
        "beta: (float) parametro beta\n",
        "tol: (float) tolerancia\n",
        "output\n",
        "root: (double) raiz obtenida\n",
        "\"\"\"\n",
        "def raiz_de_oreman(alpha, beta, tol = 1e-10): \n",
        "\n",
        "    function= lambda x: ((alpha*np.cos(x)+beta*np.sin(np.log(x)))/(x-5))*(x-5)\n",
        "    \n",
        "    #intervalo [22,27]\n",
        "    root = bisect(function,22,27,tol,30)\n",
        "\n",
        "    return np.double(root)\n",
        "\n",
        "alpha = 82.0 #PARAMETROS VARIABLES\n",
        "beta = 200.0 #PARAMETROS VARIABLES\n",
        "\n",
        "raiz_de_oreman(alpha,beta)"
      ],
      "execution_count": 21,
      "outputs": [
        {
          "output_type": "execute_result",
          "data": {
            "text/plain": [
              "23.61103859168361"
            ]
          },
          "metadata": {
            "tags": []
          },
          "execution_count": 21
        }
      ]
    },
    {
      "cell_type": "markdown",
      "metadata": {
        "id": "uvBN9Mqv51wt"
      },
      "source": [
        "# Referencias\n",
        "[1] Función f_new_rep: Función que utilizar ciertas lineas de los jupyter de los ramos, una de ellas es pasar numero a binario.\n",
        "\n",
        "[2] Funcion bisect: Función modificada de los jupyter del ramo."
      ]
    }
  ]
}