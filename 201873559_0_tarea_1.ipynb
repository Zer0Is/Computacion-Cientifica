{
  "nbformat": 4,
  "nbformat_minor": 0,
  "metadata": {
    "colab": {
      "name": "201873559-0-tarea-1.ipynb",
      "provenance": [],
      "collapsed_sections": [],
      "include_colab_link": true
    },
    "kernelspec": {
      "name": "python3",
      "display_name": "Python 3"
    },
    "language_info": {
      "name": "python"
    }
  },
  "cells": [
    {
      "cell_type": "markdown",
      "metadata": {
        "id": "view-in-github",
        "colab_type": "text"
      },
      "source": [
        "<a href=\"https://colab.research.google.com/github/Zer0Is/Computacion-Cientifica/blob/main/201873559_0_tarea_1.ipynb\" target=\"_parent\"><img src=\"https://colab.research.google.com/assets/colab-badge.svg\" alt=\"Open In Colab\"/></a>"
      ]
    },
    {
      "cell_type": "code",
      "metadata": {
        "id": "0tRZ5JczBeYT",
        "outputId": "d942ed23-b57f-4206-b0b0-5717794a5cea",
        "colab": {
          "base_uri": "https://localhost:8080/"
        }
      },
      "source": [
        "!pip install bitstring"
      ],
      "execution_count": 2,
      "outputs": [
        {
          "output_type": "stream",
          "text": [
            "Collecting bitstring\n",
            "\u001b[?25l  Downloading https://files.pythonhosted.org/packages/c3/fc/ffac2c199d2efe1ec5111f55efeb78f5f2972456df6939fea849f103f9f5/bitstring-3.1.7.tar.gz (195kB)\n",
            "\r\u001b[K     |█▊                              | 10kB 7.7MB/s eta 0:00:01\r\u001b[K     |███▍                            | 20kB 9.6MB/s eta 0:00:01\r\u001b[K     |█████                           | 30kB 5.6MB/s eta 0:00:01\r\u001b[K     |██████▊                         | 40kB 4.8MB/s eta 0:00:01\r\u001b[K     |████████▍                       | 51kB 2.4MB/s eta 0:00:01\r\u001b[K     |██████████                      | 61kB 2.5MB/s eta 0:00:01\r\u001b[K     |███████████▊                    | 71kB 2.8MB/s eta 0:00:01\r\u001b[K     |█████████████▍                  | 81kB 2.8MB/s eta 0:00:01\r\u001b[K     |███████████████                 | 92kB 3.0MB/s eta 0:00:01\r\u001b[K     |████████████████▊               | 102kB 3.1MB/s eta 0:00:01\r\u001b[K     |██████████████████▍             | 112kB 3.1MB/s eta 0:00:01\r\u001b[K     |████████████████████            | 122kB 3.1MB/s eta 0:00:01\r\u001b[K     |█████████████████████▊          | 133kB 3.1MB/s eta 0:00:01\r\u001b[K     |███████████████████████▍        | 143kB 3.1MB/s eta 0:00:01\r\u001b[K     |█████████████████████████       | 153kB 3.1MB/s eta 0:00:01\r\u001b[K     |██████████████████████████▉     | 163kB 3.1MB/s eta 0:00:01\r\u001b[K     |████████████████████████████▌   | 174kB 3.1MB/s eta 0:00:01\r\u001b[K     |██████████████████████████████▏ | 184kB 3.1MB/s eta 0:00:01\r\u001b[K     |███████████████████████████████▉| 194kB 3.1MB/s eta 0:00:01\r\u001b[K     |████████████████████████████████| 204kB 3.1MB/s \n",
            "\u001b[?25hBuilding wheels for collected packages: bitstring\n",
            "  Building wheel for bitstring (setup.py) ... \u001b[?25l\u001b[?25hdone\n",
            "  Created wheel for bitstring: filename=bitstring-3.1.7-cp37-none-any.whl size=37949 sha256=489f1fa2ad6ebb0b48f6c3a4199a6f4e0d8e1fc27336afeff205cf36e05bcd05\n",
            "  Stored in directory: /root/.cache/pip/wheels/b8/27/f0/8373e26b7de57db03dc18aaaebdd8c26a99da882416f762979\n",
            "Successfully built bitstring\n",
            "Installing collected packages: bitstring\n",
            "Successfully installed bitstring-3.1.7\n"
          ],
          "name": "stdout"
        }
      ]
    },
    {
      "cell_type": "code",
      "metadata": {
        "id": "QLwRCwg9o3_V"
      },
      "source": [
        "# Algoritmo de ejemplo\n",
        "a = 9819824.624837\n",
        "b = 148736.523476\n",
        "c = a+b\n",
        " \n",
        "# Implementación de ejemplo con Representación de Punto Flotante de 'bits_mant' bits en la mantisa y 'bits_exp' bits en el exponente.\n",
        "am = f_new_rep(9819824.624837,bits_mant,bits_exp) # Aproximar el input en la nueva representación.\n",
        "bm = f_new_rep(148736.523476,bits_mant,bits_exp) # Aproximar el input en la nueva representación.\n",
        "cm = f_suma(am,bm,bits_mant,bits_exp) # Aproximar el output de la suma y cada operación en la nueva representación."
      ],
      "execution_count": null,
      "outputs": []
    },
    {
      "cell_type": "code",
      "metadata": {
        "id": "VljWRhKjo6bA",
        "outputId": "a64da9ff-1520-4a5c-8fc2-4eaf573536f7",
        "colab": {
          "base_uri": "https://localhost:8080/",
          "height": 454
        }
      },
      "source": [
        "import bitstring as bts\n",
        "\"\"\"\n",
        "input\n",
        "x         : (double) valor a evaluar\n",
        "bits_mant : (int) cantidad de bits de la mantisa\n",
        "bits_exp  : (int) cantidad de bits del exponente\n",
        "output\n",
        "result      : (double) resultado obtenido\n",
        "\"\"\"\n",
        "def f_new_rep(x,bits_mant,bits_exp):\n",
        "    # Algoritmo de representación de punto flotante modificada.\n",
        "    \n",
        "    #Numero en double precision\n",
        "    x = bts.pack('>d', x)\n",
        "    x = x.bin\n",
        "    \n",
        "    print(len(x[0]),len(x[1:12]),len(x[12:]))\n",
        "    print(x[0],x[1:12],x[12:])\n",
        "\n",
        "    #Truncar mantisa\n",
        "    #(*) 2^(bits_exp-1)-1 => ejemplo... 2^(4-1)-1 = 2^3-1=7\n",
        "    # => -6 a 7 (-7 caso 0000 y 8 caso 1111) notar que hay 16 numeros posibles (2^4 = 16)\n",
        "    exp  = x[1:12]\n",
        "    \n",
        "    if exp < bits_exp.bin:\n",
        "      print(True)\n",
        "    #return  result\n",
        "\n",
        "\"\"\"\n",
        "input\n",
        "n1        : (double) valor a sumar\n",
        "n2        : (double) valor a sumar\n",
        "bits_mant : (int) cantidad de bits de la mantisa\n",
        "bits_exp  : (int) cantidad de bits del exponente\n",
        "output\n",
        "result      : (double) resultado obtenido\n",
        "\"\"\"\n",
        "def f_suma(n1,n2,bits_mant,bits_exp):\n",
        "    #Algoritmo que calcula la suma de dos numeros manteniendo el estandar asignado\n",
        "    return result\n",
        "\n",
        "\"\"\"\n",
        "input\n",
        "n1        : (double) valor a multiplicar\n",
        "n2        : (double) valor a multiplicar\n",
        "bits_mant : (int) cantidad de bits de la mantisa\n",
        "bits_exp  : (int) cantidad de bits del exponente\n",
        "output\n",
        "result      : (double) resultado obtenido\n",
        "\"\"\"\n",
        "def f_multiplicacion(n1,n2,bits_mant,bits_exp):\n",
        "    #Algoritmo que calcula la multiplicación de dos numeros manteniendo el estandar asignado\n",
        "    return result\n",
        "\n",
        "\"\"\"\n",
        "input\n",
        "n1        : (double) valor a multiplicar\n",
        "n2        : (double) valor a multiplicar\n",
        "bits_mant : (int) cantidad de bits de la mantisa\n",
        "bits_exp  : (int) cantidad de bits del exponente\n",
        "output\n",
        "result      : (double) resultado obtenido\n",
        "\"\"\"\n",
        "def f_division(n1,n2,bits_mant,bits_exp):\n",
        "    #Algoritmo que calcula la división de dos numeros manteniendo el estandar asignado\n",
        "    return result\n",
        "\n",
        "\"\"\"\n",
        "input\n",
        "A         : (double) valor a evaluar\n",
        "bits_mant : (int) cantidad de bits de la mantisa\n",
        "bits_exp  : (int) cantidad de bits del exponente\n",
        "output\n",
        "x_roots      : (array) raices del polinomio ordenadas de menor a mayor\n",
        "\"\"\"\n",
        "def f_find_roots(A,bits_mant,bits_exp):\n",
        "    # Algoritmo para encontrar raíces de f(x).\n",
        "    return x_roots\n",
        "\n",
        "f_new_rep(5,2,2)"
      ],
      "execution_count": 48,
      "outputs": [
        {
          "output_type": "stream",
          "text": [
            "1 11 52\n",
            "0 10000000001 0100000000000000000000000000000000000000000000000000\n"
          ],
          "name": "stdout"
        },
        {
          "output_type": "error",
          "ename": "ValueError",
          "evalue": "ignored",
          "traceback": [
            "\u001b[0;31m---------------------------------------------------------------------------\u001b[0m",
            "\u001b[0;31mKeyError\u001b[0m                                  Traceback (most recent call last)",
            "\u001b[0;32m/usr/local/lib/python3.7/dist-packages/bitstring.py\u001b[0m in \u001b[0;36m_converttobitstring\u001b[0;34m(cls, bs, offset, cache)\u001b[0m\n\u001b[1;32m   2020\u001b[0m         \u001b[0;32mtry\u001b[0m\u001b[0;34m:\u001b[0m\u001b[0;34m\u001b[0m\u001b[0;34m\u001b[0m\u001b[0m\n\u001b[0;32m-> 2021\u001b[0;31m             \u001b[0;32mreturn\u001b[0m \u001b[0mcache\u001b[0m\u001b[0;34m[\u001b[0m\u001b[0;34m(\u001b[0m\u001b[0mbs\u001b[0m\u001b[0;34m,\u001b[0m \u001b[0moffset\u001b[0m\u001b[0;34m)\u001b[0m\u001b[0;34m]\u001b[0m\u001b[0;34m\u001b[0m\u001b[0;34m\u001b[0m\u001b[0m\n\u001b[0m\u001b[1;32m   2022\u001b[0m         \u001b[0;32mexcept\u001b[0m \u001b[0mKeyError\u001b[0m\u001b[0;34m:\u001b[0m\u001b[0;34m\u001b[0m\u001b[0;34m\u001b[0m\u001b[0m\n",
            "\u001b[0;31mKeyError\u001b[0m: ('10000000001', 0)",
            "\nDuring handling of the above exception, another exception occurred:\n",
            "\u001b[0;31mValueError\u001b[0m                                Traceback (most recent call last)",
            "\u001b[0;32m<ipython-input-48-eaf750cc43b7>\u001b[0m in \u001b[0;36m<module>\u001b[0;34m()\u001b[0m\n\u001b[1;32m     78\u001b[0m     \u001b[0;32mreturn\u001b[0m \u001b[0mx_roots\u001b[0m\u001b[0;34m\u001b[0m\u001b[0;34m\u001b[0m\u001b[0m\n\u001b[1;32m     79\u001b[0m \u001b[0;34m\u001b[0m\u001b[0m\n\u001b[0;32m---> 80\u001b[0;31m \u001b[0mf_new_rep\u001b[0m\u001b[0;34m(\u001b[0m\u001b[0;36m5\u001b[0m\u001b[0;34m,\u001b[0m\u001b[0;36m2\u001b[0m\u001b[0;34m,\u001b[0m\u001b[0;36m2\u001b[0m\u001b[0;34m)\u001b[0m\u001b[0;34m\u001b[0m\u001b[0;34m\u001b[0m\u001b[0m\n\u001b[0m",
            "\u001b[0;32m<ipython-input-48-eaf750cc43b7>\u001b[0m in \u001b[0;36mf_new_rep\u001b[0;34m(x, bits_mant, bits_exp)\u001b[0m\n\u001b[1;32m     22\u001b[0m     \u001b[0;31m# => -6 a 7 (-7 caso 0000 y 8 caso 1111) notar que hay 16 numeros posibles (2^4 = 16)\u001b[0m\u001b[0;34m\u001b[0m\u001b[0;34m\u001b[0m\u001b[0;34m\u001b[0m\u001b[0m\n\u001b[1;32m     23\u001b[0m     \u001b[0mexp\u001b[0m  \u001b[0;34m=\u001b[0m \u001b[0mx\u001b[0m\u001b[0;34m[\u001b[0m\u001b[0;36m1\u001b[0m\u001b[0;34m:\u001b[0m\u001b[0;36m12\u001b[0m\u001b[0;34m]\u001b[0m\u001b[0;34m\u001b[0m\u001b[0;34m\u001b[0m\u001b[0m\n\u001b[0;32m---> 24\u001b[0;31m     \u001b[0mb\u001b[0m \u001b[0;34m=\u001b[0m \u001b[0mbts\u001b[0m\u001b[0;34m.\u001b[0m\u001b[0mBitStream\u001b[0m\u001b[0;34m(\u001b[0m\u001b[0mexp\u001b[0m\u001b[0;34m)\u001b[0m\u001b[0;34m\u001b[0m\u001b[0;34m\u001b[0m\u001b[0m\n\u001b[0m\u001b[1;32m     25\u001b[0m     \u001b[0;32mif\u001b[0m \u001b[0mexp\u001b[0m \u001b[0;34m<\u001b[0m \u001b[0mbits_exp\u001b[0m\u001b[0;34m.\u001b[0m\u001b[0mbin\u001b[0m\u001b[0;34m:\u001b[0m\u001b[0;34m\u001b[0m\u001b[0;34m\u001b[0m\u001b[0m\n\u001b[1;32m     26\u001b[0m       \u001b[0mprint\u001b[0m\u001b[0;34m(\u001b[0m\u001b[0;32mTrue\u001b[0m\u001b[0;34m)\u001b[0m\u001b[0;34m\u001b[0m\u001b[0;34m\u001b[0m\u001b[0m\n",
            "\u001b[0;32m/usr/local/lib/python3.7/dist-packages/bitstring.py\u001b[0m in \u001b[0;36m__new__\u001b[0;34m(cls, auto, length, offset, **kwargs)\u001b[0m\n\u001b[1;32m   4195\u001b[0m     \u001b[0;32mdef\u001b[0m \u001b[0m__new__\u001b[0m\u001b[0;34m(\u001b[0m\u001b[0mcls\u001b[0m\u001b[0;34m,\u001b[0m \u001b[0mauto\u001b[0m\u001b[0;34m=\u001b[0m\u001b[0;32mNone\u001b[0m\u001b[0;34m,\u001b[0m \u001b[0mlength\u001b[0m\u001b[0;34m=\u001b[0m\u001b[0;32mNone\u001b[0m\u001b[0;34m,\u001b[0m \u001b[0moffset\u001b[0m\u001b[0;34m=\u001b[0m\u001b[0;32mNone\u001b[0m\u001b[0;34m,\u001b[0m \u001b[0;34m**\u001b[0m\u001b[0mkwargs\u001b[0m\u001b[0;34m)\u001b[0m\u001b[0;34m:\u001b[0m\u001b[0;34m\u001b[0m\u001b[0;34m\u001b[0m\u001b[0m\n\u001b[1;32m   4196\u001b[0m         \u001b[0mx\u001b[0m \u001b[0;34m=\u001b[0m \u001b[0msuper\u001b[0m\u001b[0;34m(\u001b[0m\u001b[0mBitStream\u001b[0m\u001b[0;34m,\u001b[0m \u001b[0mcls\u001b[0m\u001b[0;34m)\u001b[0m\u001b[0;34m.\u001b[0m\u001b[0m__new__\u001b[0m\u001b[0;34m(\u001b[0m\u001b[0mcls\u001b[0m\u001b[0;34m)\u001b[0m\u001b[0;34m\u001b[0m\u001b[0;34m\u001b[0m\u001b[0m\n\u001b[0;32m-> 4197\u001b[0;31m         \u001b[0my\u001b[0m \u001b[0;34m=\u001b[0m \u001b[0mConstBitStream\u001b[0m\u001b[0;34m.\u001b[0m\u001b[0m__new__\u001b[0m\u001b[0;34m(\u001b[0m\u001b[0mBitStream\u001b[0m\u001b[0;34m,\u001b[0m \u001b[0mauto\u001b[0m\u001b[0;34m,\u001b[0m \u001b[0mlength\u001b[0m\u001b[0;34m,\u001b[0m \u001b[0moffset\u001b[0m\u001b[0;34m,\u001b[0m \u001b[0;34m**\u001b[0m\u001b[0mkwargs\u001b[0m\u001b[0;34m)\u001b[0m\u001b[0;34m\u001b[0m\u001b[0;34m\u001b[0m\u001b[0m\n\u001b[0m\u001b[1;32m   4198\u001b[0m         x._datastore = ByteStore(y._datastore._rawarray[:],\n\u001b[1;32m   4199\u001b[0m                                           \u001b[0my\u001b[0m\u001b[0;34m.\u001b[0m\u001b[0m_datastore\u001b[0m\u001b[0;34m.\u001b[0m\u001b[0mbitlength\u001b[0m\u001b[0;34m,\u001b[0m\u001b[0;34m\u001b[0m\u001b[0;34m\u001b[0m\u001b[0m\n",
            "\u001b[0;32m/usr/local/lib/python3.7/dist-packages/bitstring.py\u001b[0m in \u001b[0;36m__new__\u001b[0;34m(cls, auto, length, offset, **kwargs)\u001b[0m\n\u001b[1;32m   3855\u001b[0m     \u001b[0;32mdef\u001b[0m \u001b[0m__new__\u001b[0m\u001b[0;34m(\u001b[0m\u001b[0mcls\u001b[0m\u001b[0;34m,\u001b[0m \u001b[0mauto\u001b[0m\u001b[0;34m=\u001b[0m\u001b[0;32mNone\u001b[0m\u001b[0;34m,\u001b[0m \u001b[0mlength\u001b[0m\u001b[0;34m=\u001b[0m\u001b[0;32mNone\u001b[0m\u001b[0;34m,\u001b[0m \u001b[0moffset\u001b[0m\u001b[0;34m=\u001b[0m\u001b[0;32mNone\u001b[0m\u001b[0;34m,\u001b[0m \u001b[0;34m**\u001b[0m\u001b[0mkwargs\u001b[0m\u001b[0;34m)\u001b[0m\u001b[0;34m:\u001b[0m\u001b[0;34m\u001b[0m\u001b[0;34m\u001b[0m\u001b[0m\n\u001b[1;32m   3856\u001b[0m         \u001b[0mx\u001b[0m \u001b[0;34m=\u001b[0m \u001b[0msuper\u001b[0m\u001b[0;34m(\u001b[0m\u001b[0mConstBitStream\u001b[0m\u001b[0;34m,\u001b[0m \u001b[0mcls\u001b[0m\u001b[0;34m)\u001b[0m\u001b[0;34m.\u001b[0m\u001b[0m__new__\u001b[0m\u001b[0;34m(\u001b[0m\u001b[0mcls\u001b[0m\u001b[0;34m)\u001b[0m\u001b[0;34m\u001b[0m\u001b[0;34m\u001b[0m\u001b[0m\n\u001b[0;32m-> 3857\u001b[0;31m         \u001b[0mx\u001b[0m\u001b[0;34m.\u001b[0m\u001b[0m_initialise\u001b[0m\u001b[0;34m(\u001b[0m\u001b[0mauto\u001b[0m\u001b[0;34m,\u001b[0m \u001b[0mlength\u001b[0m\u001b[0;34m,\u001b[0m \u001b[0moffset\u001b[0m\u001b[0;34m,\u001b[0m \u001b[0;34m**\u001b[0m\u001b[0mkwargs\u001b[0m\u001b[0;34m)\u001b[0m\u001b[0;34m\u001b[0m\u001b[0;34m\u001b[0m\u001b[0m\n\u001b[0m\u001b[1;32m   3858\u001b[0m         \u001b[0;32mreturn\u001b[0m \u001b[0mx\u001b[0m\u001b[0;34m\u001b[0m\u001b[0;34m\u001b[0m\u001b[0m\n\u001b[1;32m   3859\u001b[0m \u001b[0;34m\u001b[0m\u001b[0m\n",
            "\u001b[0;32m/usr/local/lib/python3.7/dist-packages/bitstring.py\u001b[0m in \u001b[0;36m_initialise\u001b[0;34m(self, auto, length, offset, **kwargs)\u001b[0m\n\u001b[1;32m    851\u001b[0m             \u001b[0;32mraise\u001b[0m \u001b[0mCreationError\u001b[0m\u001b[0;34m(\u001b[0m\u001b[0;34m\"offset must be >= 0.\"\u001b[0m\u001b[0;34m)\u001b[0m\u001b[0;34m\u001b[0m\u001b[0;34m\u001b[0m\u001b[0m\n\u001b[1;32m    852\u001b[0m         \u001b[0;32mif\u001b[0m \u001b[0mauto\u001b[0m \u001b[0;32mis\u001b[0m \u001b[0;32mnot\u001b[0m \u001b[0;32mNone\u001b[0m\u001b[0;34m:\u001b[0m\u001b[0;34m\u001b[0m\u001b[0;34m\u001b[0m\u001b[0m\n\u001b[0;32m--> 853\u001b[0;31m             \u001b[0mself\u001b[0m\u001b[0;34m.\u001b[0m\u001b[0m_initialise_from_auto\u001b[0m\u001b[0;34m(\u001b[0m\u001b[0mauto\u001b[0m\u001b[0;34m,\u001b[0m \u001b[0mlength\u001b[0m\u001b[0;34m,\u001b[0m \u001b[0moffset\u001b[0m\u001b[0;34m)\u001b[0m\u001b[0;34m\u001b[0m\u001b[0;34m\u001b[0m\u001b[0m\n\u001b[0m\u001b[1;32m    854\u001b[0m             \u001b[0;32mreturn\u001b[0m\u001b[0;34m\u001b[0m\u001b[0;34m\u001b[0m\u001b[0m\n\u001b[1;32m    855\u001b[0m         \u001b[0;32mif\u001b[0m \u001b[0;32mnot\u001b[0m \u001b[0mkwargs\u001b[0m\u001b[0;34m:\u001b[0m\u001b[0;34m\u001b[0m\u001b[0;34m\u001b[0m\u001b[0m\n",
            "\u001b[0;32m/usr/local/lib/python3.7/dist-packages/bitstring.py\u001b[0m in \u001b[0;36m_initialise_from_auto\u001b[0;34m(self, auto, length, offset)\u001b[0m\n\u001b[1;32m    882\u001b[0m         \u001b[0;32mif\u001b[0m \u001b[0moffset\u001b[0m \u001b[0;32mis\u001b[0m \u001b[0;32mNone\u001b[0m\u001b[0;34m:\u001b[0m\u001b[0;34m\u001b[0m\u001b[0;34m\u001b[0m\u001b[0m\n\u001b[1;32m    883\u001b[0m             \u001b[0moffset\u001b[0m \u001b[0;34m=\u001b[0m \u001b[0;36m0\u001b[0m\u001b[0;34m\u001b[0m\u001b[0;34m\u001b[0m\u001b[0m\n\u001b[0;32m--> 884\u001b[0;31m         \u001b[0mself\u001b[0m\u001b[0;34m.\u001b[0m\u001b[0m_setauto\u001b[0m\u001b[0;34m(\u001b[0m\u001b[0mauto\u001b[0m\u001b[0;34m,\u001b[0m \u001b[0mlength\u001b[0m\u001b[0;34m,\u001b[0m \u001b[0moffset\u001b[0m\u001b[0;34m)\u001b[0m\u001b[0;34m\u001b[0m\u001b[0;34m\u001b[0m\u001b[0m\n\u001b[0m\u001b[1;32m    885\u001b[0m         \u001b[0;32mreturn\u001b[0m\u001b[0;34m\u001b[0m\u001b[0;34m\u001b[0m\u001b[0m\n\u001b[1;32m    886\u001b[0m \u001b[0;34m\u001b[0m\u001b[0m\n",
            "\u001b[0;32m/usr/local/lib/python3.7/dist-packages/bitstring.py\u001b[0m in \u001b[0;36m_setauto\u001b[0;34m(self, s, length, offset)\u001b[0m\n\u001b[1;32m   1342\u001b[0m             \u001b[0;32mraise\u001b[0m \u001b[0mCreationError\u001b[0m\u001b[0;34m(\u001b[0m\u001b[0;34m\"The offset keyword isn't applicable to this initialiser.\"\u001b[0m\u001b[0;34m)\u001b[0m\u001b[0;34m\u001b[0m\u001b[0;34m\u001b[0m\u001b[0m\n\u001b[1;32m   1343\u001b[0m         \u001b[0;32mif\u001b[0m \u001b[0misinstance\u001b[0m\u001b[0;34m(\u001b[0m\u001b[0ms\u001b[0m\u001b[0;34m,\u001b[0m \u001b[0mbasestring\u001b[0m\u001b[0;34m)\u001b[0m\u001b[0;34m:\u001b[0m\u001b[0;34m\u001b[0m\u001b[0;34m\u001b[0m\u001b[0m\n\u001b[0;32m-> 1344\u001b[0;31m             \u001b[0mbs\u001b[0m \u001b[0;34m=\u001b[0m \u001b[0mself\u001b[0m\u001b[0;34m.\u001b[0m\u001b[0m_converttobitstring\u001b[0m\u001b[0;34m(\u001b[0m\u001b[0ms\u001b[0m\u001b[0;34m)\u001b[0m\u001b[0;34m\u001b[0m\u001b[0;34m\u001b[0m\u001b[0m\n\u001b[0m\u001b[1;32m   1345\u001b[0m             \u001b[0;32massert\u001b[0m \u001b[0mbs\u001b[0m\u001b[0;34m.\u001b[0m\u001b[0m_offset\u001b[0m \u001b[0;34m==\u001b[0m \u001b[0;36m0\u001b[0m\u001b[0;34m\u001b[0m\u001b[0;34m\u001b[0m\u001b[0m\n\u001b[1;32m   1346\u001b[0m             \u001b[0mself\u001b[0m\u001b[0;34m.\u001b[0m\u001b[0m_setbytes_unsafe\u001b[0m\u001b[0;34m(\u001b[0m\u001b[0mbs\u001b[0m\u001b[0;34m.\u001b[0m\u001b[0m_datastore\u001b[0m\u001b[0;34m.\u001b[0m\u001b[0mrawbytes\u001b[0m\u001b[0;34m,\u001b[0m \u001b[0mbs\u001b[0m\u001b[0;34m.\u001b[0m\u001b[0mlength\u001b[0m\u001b[0;34m,\u001b[0m \u001b[0;36m0\u001b[0m\u001b[0;34m)\u001b[0m\u001b[0;34m\u001b[0m\u001b[0;34m\u001b[0m\u001b[0m\n",
            "\u001b[0;32m/usr/local/lib/python3.7/dist-packages/bitstring.py\u001b[0m in \u001b[0;36m_converttobitstring\u001b[0;34m(cls, bs, offset, cache)\u001b[0m\n\u001b[1;32m   2028\u001b[0m                     \u001b[0;32mraise\u001b[0m \u001b[0mCreationError\u001b[0m\u001b[0;34m(\u001b[0m\u001b[0;34m*\u001b[0m\u001b[0me\u001b[0m\u001b[0;34m.\u001b[0m\u001b[0margs\u001b[0m\u001b[0;34m)\u001b[0m\u001b[0;34m\u001b[0m\u001b[0;34m\u001b[0m\u001b[0m\n\u001b[1;32m   2029\u001b[0m                 \u001b[0;32mif\u001b[0m \u001b[0mtokens\u001b[0m\u001b[0;34m:\u001b[0m\u001b[0;34m\u001b[0m\u001b[0;34m\u001b[0m\u001b[0m\n\u001b[0;32m-> 2030\u001b[0;31m                     \u001b[0mb\u001b[0m\u001b[0;34m.\u001b[0m\u001b[0m_append\u001b[0m\u001b[0;34m(\u001b[0m\u001b[0mBits\u001b[0m\u001b[0;34m.\u001b[0m\u001b[0m_init_with_token\u001b[0m\u001b[0;34m(\u001b[0m\u001b[0;34m*\u001b[0m\u001b[0mtokens\u001b[0m\u001b[0;34m[\u001b[0m\u001b[0;36m0\u001b[0m\u001b[0;34m]\u001b[0m\u001b[0;34m)\u001b[0m\u001b[0;34m)\u001b[0m\u001b[0;34m\u001b[0m\u001b[0;34m\u001b[0m\u001b[0m\n\u001b[0m\u001b[1;32m   2031\u001b[0m                     \u001b[0mb\u001b[0m\u001b[0;34m.\u001b[0m\u001b[0m_datastore\u001b[0m \u001b[0;34m=\u001b[0m \u001b[0moffsetcopy\u001b[0m\u001b[0;34m(\u001b[0m\u001b[0mb\u001b[0m\u001b[0;34m.\u001b[0m\u001b[0m_datastore\u001b[0m\u001b[0;34m,\u001b[0m \u001b[0moffset\u001b[0m\u001b[0;34m)\u001b[0m\u001b[0;34m\u001b[0m\u001b[0;34m\u001b[0m\u001b[0m\n\u001b[1;32m   2032\u001b[0m                     \u001b[0;32mfor\u001b[0m \u001b[0mtoken\u001b[0m \u001b[0;32min\u001b[0m \u001b[0mtokens\u001b[0m\u001b[0;34m[\u001b[0m\u001b[0;36m1\u001b[0m\u001b[0;34m:\u001b[0m\u001b[0;34m]\u001b[0m\u001b[0;34m:\u001b[0m\u001b[0;34m\u001b[0m\u001b[0;34m\u001b[0m\u001b[0m\n",
            "\u001b[0;32m/usr/local/lib/python3.7/dist-packages/bitstring.py\u001b[0m in \u001b[0;36m_init_with_token\u001b[0;34m(cls, name, token_length, value)\u001b[0m\n\u001b[1;32m   1270\u001b[0m             \u001b[0;32melse\u001b[0m\u001b[0;34m:\u001b[0m\u001b[0;34m\u001b[0m\u001b[0;34m\u001b[0m\u001b[0m\n\u001b[1;32m   1271\u001b[0m                 \u001b[0merror\u001b[0m \u001b[0;34m=\u001b[0m \u001b[0;34m\"Token has no value ({0}:{1}=???).\"\u001b[0m\u001b[0;34m.\u001b[0m\u001b[0mformat\u001b[0m\u001b[0;34m(\u001b[0m\u001b[0mname\u001b[0m\u001b[0;34m,\u001b[0m \u001b[0mtoken_length\u001b[0m\u001b[0;34m)\u001b[0m\u001b[0;34m\u001b[0m\u001b[0;34m\u001b[0m\u001b[0m\n\u001b[0;32m-> 1272\u001b[0;31m             \u001b[0;32mraise\u001b[0m \u001b[0mValueError\u001b[0m\u001b[0;34m(\u001b[0m\u001b[0merror\u001b[0m\u001b[0;34m)\u001b[0m\u001b[0;34m\u001b[0m\u001b[0;34m\u001b[0m\u001b[0m\n\u001b[0m\u001b[1;32m   1273\u001b[0m         \u001b[0;32mtry\u001b[0m\u001b[0;34m:\u001b[0m\u001b[0;34m\u001b[0m\u001b[0;34m\u001b[0m\u001b[0m\n\u001b[1;32m   1274\u001b[0m             \u001b[0mb\u001b[0m \u001b[0;34m=\u001b[0m \u001b[0mcls\u001b[0m\u001b[0;34m(\u001b[0m\u001b[0;34m**\u001b[0m\u001b[0;34m{\u001b[0m\u001b[0m_tokenname_to_initialiser\u001b[0m\u001b[0;34m[\u001b[0m\u001b[0mname\u001b[0m\u001b[0;34m]\u001b[0m\u001b[0;34m:\u001b[0m \u001b[0mvalue\u001b[0m\u001b[0;34m}\u001b[0m\u001b[0;34m)\u001b[0m\u001b[0;34m\u001b[0m\u001b[0;34m\u001b[0m\u001b[0m\n",
            "\u001b[0;31mValueError\u001b[0m: Token has no value (uint:10000000001=???)."
          ]
        }
      ]
    },
    {
      "cell_type": "code",
      "metadata": {
        "id": "cZuFhpMKf-2H",
        "outputId": "f85c7387-f434-4ed0-81a2-186444606b19",
        "colab": {
          "base_uri": "https://localhost:8080/"
        }
      },
      "source": [
        "import numpy as np\n",
        "import sympy as sym\n",
        "\n",
        "alpha = 5\n",
        "beta = 6\n",
        "x = sym.Symbol('x')\n",
        "\n",
        "\n",
        "#f= lambda x: alpha*np.cos(x)+beta*np.sin(np.log10(x))\n",
        "#fp= lambda x: (beta*np.cos(np.log(x)))/(x) - alpha*np.sin(x)\n",
        "\n",
        "fp = lambda x: (beta*sym.cos(sym.log(x)))/(x) - alpha*sym.sin(x)\n",
        "\n",
        "r_all=sym.solve(sym.Eq(fp(x)),0)\n",
        "print(r_all)\n",
        "\n",
        "print(f(25))\n",
        "print(fp(25))"
      ],
      "execution_count": 22,
      "outputs": [
        {
          "output_type": "stream",
          "text": [
            "[5*sin(x) - 6*cos(log(x))/x]\n",
            "10.866599110238095\n",
            "6*cos(log(25))/25 - 5*sin(25)\n"
          ],
          "name": "stdout"
        },
        {
          "output_type": "stream",
          "text": [
            "/usr/local/lib/python3.7/dist-packages/sympy/core/relational.py:496: SymPyDeprecationWarning: \n",
            "\n",
            "Eq(expr) with rhs default to 0 has been deprecated since SymPy 1.5.\n",
            "Use Eq(expr, 0) instead. See\n",
            "https://github.com/sympy/sympy/issues/16587 for more info.\n",
            "\n",
            "  deprecated_since_version=\"1.5\"\n"
          ],
          "name": "stderr"
        }
      ]
    }
  ]
}