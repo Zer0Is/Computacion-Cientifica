{
  "nbformat": 4,
  "nbformat_minor": 0,
  "metadata": {
    "colab": {
      "name": "201873559-0-tarea-1.ipynb",
      "provenance": [],
      "collapsed_sections": [],
      "include_colab_link": true
    },
    "kernelspec": {
      "name": "python3",
      "display_name": "Python 3"
    },
    "language_info": {
      "name": "python"
    }
  },
  "cells": [
    {
      "cell_type": "markdown",
      "metadata": {
        "id": "view-in-github",
        "colab_type": "text"
      },
      "source": [
        "<a href=\"https://colab.research.google.com/github/Zer0Is/Computacion-Cientifica/blob/main/201873559_0_tarea_1.ipynb\" target=\"_parent\"><img src=\"https://colab.research.google.com/assets/colab-badge.svg\" alt=\"Open In Colab\"/></a>"
      ]
    },
    {
      "cell_type": "code",
      "metadata": {
        "colab": {
          "base_uri": "https://localhost:8080/"
        },
        "id": "0tRZ5JczBeYT",
        "outputId": "0ee9e463-b675-4624-ba53-8bcd94021703"
      },
      "source": [
        "!pip install bitstring"
      ],
      "execution_count": 17,
      "outputs": [
        {
          "output_type": "stream",
          "text": [
            "Requirement already satisfied: bitstring in /usr/local/lib/python3.7/dist-packages (3.1.7)\n"
          ],
          "name": "stdout"
        }
      ]
    },
    {
      "cell_type": "code",
      "metadata": {
        "colab": {
          "base_uri": "https://localhost:8080/",
          "height": 153
        },
        "id": "VljWRhKjo6bA",
        "outputId": "40c07f3a-ccc4-4a17-9e25-4f980046541a"
      },
      "source": [
        "import bitstring as bs\n",
        "import numpy as np\n",
        "\"\"\"\n",
        "input\n",
        "x         : (double) valor a evaluar\n",
        "bits_mant : (int) cantidad de bits de la mantisa\n",
        "bits_exp  : (int) cantidad de bits del exponente\n",
        "output\n",
        "result      : (double) resultado obtenido\n",
        "\"\"\"\n",
        "def f_new_rep(x,bits_mant,bits_exp):\n",
        "  #iniciamos resultado en 0\n",
        "  result = 0\n",
        "  #Transforma numero en punto flotante con doble precision\n",
        "  b = bs.pack('>d', x)\n",
        "  b = b.bin\n",
        "  m = b[12:]\n",
        "  print(b[0]+' '+b[1:12]+ ' '+b[12:])\n",
        "  if bits_mant < 52:\n",
        "    if (b[11+bits_mant]=='0'):\n",
        "      if (b[12+bits_mant]=='0'):\n",
        "        m=b[12:12+bits_mant]\n",
        "      elif ('1' in b[13+bits_mant:]):\n",
        "        i=0\n",
        "        for n in range(11+bits_mant,11,-1):\n",
        "          if (b[n]=='0'):\n",
        "            aux= list(str(b[12:12+bits_mant]))\n",
        "            aux[n-12]='1'\n",
        "            aux=''.join(aux)\n",
        "            m=aux[0:n-11]+i*'0'\n",
        "            break\n",
        "          else:\n",
        "            i+=1\n",
        "          #if (n==12):\n",
        "            #m=b[12:12+bits_mant]\n",
        "      else:\n",
        "        m=b[12:12+bits_mant]\n",
        "    else:\n",
        "      if (b[12+bits_mant]=='1'):\n",
        "        i=0\n",
        "        for n in range(11+bits_mant,11,-1):\n",
        "          if (b[n]=='0'):\n",
        "            aux= list(str(b[12:12+bits_mant]))\n",
        "            aux[n-12]='1'\n",
        "            aux=''.join(aux)\n",
        "            m=aux[0:n-11]+i*'0'\n",
        "            break\n",
        "          else:\n",
        "            i+=1\n",
        "          if (n==12):\n",
        "            m=b[12:12+bits_mant]\n",
        "      else:\n",
        "        m=b[12:12+bits_mant]\n",
        "    print(\"Mantisa\",m,\"con\",bits_mant,\"bits\")\n",
        "\n",
        "#Vemos el exponente\n",
        "  \n",
        "  #m='1'+m    #punto flotante\n",
        "  #vemos cual es el  maximo que podemos representar con el exponente en decimal (dado los bits del exponente)\n",
        "  exponente_maximo = int('1'*bits_exp,2) - (2**(bits_exp-1)-1)\n",
        "  #vemos el exponente que tiene el numero en decimal\n",
        "  exponente_numero = int(b[1:12],2) - (2**(11-1)-1)\n",
        "\n",
        "  print(\"\\nexp max es\", exponente_maximo,\"con\",bits_exp,\"bits de exponente\")\n",
        "  print(\"exp numero es\", exponente_numero,\"con 11 bits de exponente\")\n",
        "\n",
        "  #se ve si el numero a representar \"cabe\" con los bits que nos dan\n",
        "\n",
        "  #Caso donde no \"cabe\" el numero con los nuevos bits disponibles\n",
        "  if exponente_maximo < exponente_numero: \n",
        "    \n",
        "    if b[0]=='1':\n",
        "      return -np.inf\n",
        "    else:\n",
        "      return np.inf\n",
        "    print(\"el exponente final es\",exponente,\"la mantisa es\",m,\"el resultado es\",result,\"\\n\")\n",
        "  \n",
        "  \n",
        "  #caso especial exponente tiene solo numeros \"1\"\n",
        "  elif exponente_maximo == exponente_numero:\n",
        "    \n",
        "    #caso donde signo positivo y mantisa solo son \"0\"\n",
        "    if (m.count('0') == len(m)) and b[0] == '0':\n",
        "      return np.inf\n",
        "    \n",
        "    #caso donde signo es negativo y mantisa solo tiene \"0\"\n",
        "    elif (m.count('0') == len(m)) and b[0] == '1':\n",
        "      return -np.inf\n",
        "\n",
        "    #caso donde mantisa tiene algun \"1\"\n",
        "    elif m.count('1') != 0:\n",
        "      return 0/0 #NaN\n",
        "\n",
        "  #caso especial exponente tiene solo numeros \"0\"\n",
        "  elif int(b[1:12],2) == 0:\n",
        "    #Numeros sub-normales\n",
        "    print(\"si\")\n",
        "\n",
        "\n",
        "\n",
        "  #Caso donde si cabe el numero y no es un caso especial\n",
        "  else:\n",
        "    #Convertir numero\n",
        "    m = '1'+ m\n",
        "\n",
        "    for iterador in range(0, len(m), 1):   \n",
        "      if m[iterador] == '1':\n",
        "        result += 2**(exponente_numero - iterador)\n",
        "  if b[0] == '1':\n",
        "    result = result*-1\n",
        "  \n",
        "  return  result\n",
        "\n",
        "\"\"\"\n",
        "input\n",
        "n1        : (double) valor a sumar\n",
        "n2        : (double) valor a sumar\n",
        "bits_mant : (int) cantidad de bits de la mantisa\n",
        "bits_exp  : (int) cantidad de bits del exponente\n",
        "output\n",
        "result      : (double) resultado obtenido\n",
        "\"\"\"\n",
        "def f_suma(n1,n2,bits_mant,bits_exp):\n",
        "    #Algoritmo que calcula la suma de dos numeros manteniendo el estandar asignado\n",
        "    result = f_new_rep(n1+n2,bits_mant,bits_exp)\n",
        "    return result\n",
        "\n",
        "\"\"\"\n",
        "input\n",
        "n1        : (double) valor a multiplicar\n",
        "n2        : (double) valor a multiplicar\n",
        "bits_mant : (int) cantidad de bits de la mantisa\n",
        "bits_exp  : (int) cantidad de bits del exponente\n",
        "output\n",
        "result      : (double) resultado obtenido\n",
        "\"\"\"\n",
        "def f_multiplicacion(n1,n2,bits_mant,bits_exp):\n",
        "    #Algoritmo que calcula la multiplicación de dos numeros manteniendo el estandar asignado\n",
        "    result = f_new_rep(n1*n2,bits_mant,bits_exp)\n",
        "    return result\n",
        "\n",
        "\"\"\"\n",
        "input\n",
        "n1        : (double) valor a multiplicar\n",
        "n2        : (double) valor a multiplicar\n",
        "bits_mant : (int) cantidad de bits de la mantisa\n",
        "bits_exp  : (int) cantidad de bits del exponente\n",
        "output\n",
        "result      : (double) resultado obtenido\n",
        "\"\"\"\n",
        "def f_division(n1,n2,bits_mant,bits_exp):\n",
        "    #Algoritmo que calcula la división de dos numeros manteniendo el estandar asignado\n",
        "    result = f_new_rep(n1/n2,bits_mant,bits_exp)\n",
        "    return result\n",
        "\n",
        "\"\"\"\n",
        "input\n",
        "A         : (double) valor a evaluar\n",
        "bits_mant : (int) cantidad de bits de la mantisa\n",
        "bits_exp  : (int) cantidad de bits del exponente\n",
        "output\n",
        "x_roots      : (array) raices del polinomio ordenadas de menor a mayor\n",
        "\"\"\"\n",
        "def f_find_roots(A,bits_mant,bits_exp):\n",
        "    # Algoritmo para encontrar raíces de f(x).\n",
        "    return x_roots\n",
        "\n",
        "#    (numero,bit mantisa, bit exponente)\n",
        "print(f_new_rep(0,3,3))\n",
        "\n",
        "\"\"\"\n",
        "print(\"division\", f_division(40,45,3,3))\n",
        "print(\"suma\", f_suma(40,45,3,3))\n",
        "print(\"multiplicacion\", f_multiplicacion(40,45,3,3))\n",
        "\"\"\""
      ],
      "execution_count": 204,
      "outputs": [
        {
          "output_type": "stream",
          "text": [
            "0 00000000000 0000000000000000000000000000000000000000000000000000\n",
            "Mantisa 000 con 3 bits\n",
            "\n",
            "exp max es 4 con 3 bits de exponente\n",
            "exp numero es -1023 con 11 bits de exponente\n",
            "si\n",
            "0\n"
          ],
          "name": "stdout"
        },
        {
          "output_type": "execute_result",
          "data": {
            "application/vnd.google.colaboratory.intrinsic+json": {
              "type": "string"
            },
            "text/plain": [
              "'\\nprint(\"division\", f_division(40,45,3,3))\\nprint(\"suma\", f_suma(40,45,3,3))\\nprint(\"multiplicacion\", f_multiplicacion(40,45,3,3))\\n'"
            ]
          },
          "metadata": {
            "tags": []
          },
          "execution_count": 204
        }
      ]
    },
    {
      "cell_type": "code",
      "metadata": {
        "colab": {
          "base_uri": "https://localhost:8080/",
          "height": 69
        },
        "id": "0YSx--naTYFT",
        "outputId": "e137e4ec-8dbe-43c4-f7e4-b61a7a5ec3e9"
      },
      "source": [
        "\"\"\"\n",
        "# Algoritmo de ejemplo\n",
        "a = 9819824.624837\n",
        "b = 148736.523476\n",
        "c = a+b\n",
        " \n",
        "# Implementación de ejemplo con Representación de Punto Flotante de 'bits_mant' bits en la mantisa y 'bits_exp' bits en el exponente.\n",
        "am = f_new_rep(9819824.624837,bits_mant,bits_exp) # Aproximar el input en la nueva representación.\n",
        "bm = f_new_rep(148736.523476,bits_mant,bits_exp) # Aproximar el input en la nueva representación.\n",
        "cm = f_suma(am,bm,bits_mant,bits_exp) # Aproximar el output de la suma y cada operación en la nueva representación.\n",
        "\"\"\""
      ],
      "execution_count": 19,
      "outputs": [
        {
          "output_type": "execute_result",
          "data": {
            "application/vnd.google.colaboratory.intrinsic+json": {
              "type": "string"
            },
            "text/plain": [
              "\"\\n# Algoritmo de ejemplo\\na = 9819824.624837\\nb = 148736.523476\\nc = a+b\\n \\n# Implementación de ejemplo con Representación de Punto Flotante de 'bits_mant' bits en la mantisa y 'bits_exp' bits en el exponente.\\nam = f_new_rep(9819824.624837,bits_mant,bits_exp) # Aproximar el input en la nueva representación.\\nbm = f_new_rep(148736.523476,bits_mant,bits_exp) # Aproximar el input en la nueva representación.\\ncm = f_suma(am,bm,bits_mant,bits_exp) # Aproximar el output de la suma y cada operación en la nueva representación.\\n\""
            ]
          },
          "metadata": {
            "tags": []
          },
          "execution_count": 19
        }
      ]
    },
    {
      "cell_type": "code",
      "metadata": {
        "id": "cZuFhpMKf-2H",
        "colab": {
          "base_uri": "https://localhost:8080/"
        },
        "outputId": "c6fe17b0-027e-46ce-9542-e649aa55efe5"
      },
      "source": [
        "import numpy as np\n",
        "import sympy as sym\n",
        "\n",
        "alpha = 5\n",
        "beta = 6\n",
        "x = sym.Symbol('x')\n",
        "\n",
        "\n",
        "#f= lambda x: alpha*np.cos(x)+beta*np.sin(np.log10(x))\n",
        "#fp= lambda x: (beta*np.cos(np.log(x)))/(x) - alpha*np.sin(x)\n",
        "\n",
        "fp = lambda x: (beta*sym.cos(sym.log(x)))/(x) - alpha*sym.sin(x)\n",
        "\n",
        "r_all=sym.solve(sym.Eq(fp(x)),0)\n",
        "print(r_all)\n"
      ],
      "execution_count": 20,
      "outputs": [
        {
          "output_type": "stream",
          "text": [
            "[5*sin(x) - 6*cos(log(x))/x]\n"
          ],
          "name": "stdout"
        },
        {
          "output_type": "stream",
          "text": [
            "/usr/local/lib/python3.7/dist-packages/sympy/core/relational.py:496: SymPyDeprecationWarning: \n",
            "\n",
            "Eq(expr) with rhs default to 0 has been deprecated since SymPy 1.5.\n",
            "Use Eq(expr, 0) instead. See\n",
            "https://github.com/sympy/sympy/issues/16587 for more info.\n",
            "\n",
            "  deprecated_since_version=\"1.5\"\n"
          ],
          "name": "stderr"
        }
      ]
    }
  ]
}