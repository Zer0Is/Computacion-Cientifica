{
  "nbformat": 4,
  "nbformat_minor": 0,
  "metadata": {
    "colab": {
      "name": "201873559-0-tarea-1.ipynb",
      "provenance": [],
      "collapsed_sections": [],
      "include_colab_link": true
    },
    "kernelspec": {
      "name": "python3",
      "display_name": "Python 3"
    },
    "language_info": {
      "name": "python"
    }
  },
  "cells": [
    {
      "cell_type": "markdown",
      "metadata": {
        "id": "view-in-github",
        "colab_type": "text"
      },
      "source": [
        "<a href=\"https://colab.research.google.com/github/Zer0Is/Computacion-Cientifica/blob/main/201873559_0_tarea_1.ipynb\" target=\"_parent\"><img src=\"https://colab.research.google.com/assets/colab-badge.svg\" alt=\"Open In Colab\"/></a>"
      ]
    },
    {
      "cell_type": "code",
      "metadata": {
        "colab": {
          "base_uri": "https://localhost:8080/"
        },
        "id": "0tRZ5JczBeYT",
        "outputId": "d942ed23-b57f-4206-b0b0-5717794a5cea"
      },
      "source": [
        "!pip install bitstring"
      ],
      "execution_count": 2,
      "outputs": [
        {
          "output_type": "stream",
          "text": [
            "Collecting bitstring\n",
            "\u001b[?25l  Downloading https://files.pythonhosted.org/packages/c3/fc/ffac2c199d2efe1ec5111f55efeb78f5f2972456df6939fea849f103f9f5/bitstring-3.1.7.tar.gz (195kB)\n",
            "\r\u001b[K     |█▊                              | 10kB 7.7MB/s eta 0:00:01\r\u001b[K     |███▍                            | 20kB 9.6MB/s eta 0:00:01\r\u001b[K     |█████                           | 30kB 5.6MB/s eta 0:00:01\r\u001b[K     |██████▊                         | 40kB 4.8MB/s eta 0:00:01\r\u001b[K     |████████▍                       | 51kB 2.4MB/s eta 0:00:01\r\u001b[K     |██████████                      | 61kB 2.5MB/s eta 0:00:01\r\u001b[K     |███████████▊                    | 71kB 2.8MB/s eta 0:00:01\r\u001b[K     |█████████████▍                  | 81kB 2.8MB/s eta 0:00:01\r\u001b[K     |███████████████                 | 92kB 3.0MB/s eta 0:00:01\r\u001b[K     |████████████████▊               | 102kB 3.1MB/s eta 0:00:01\r\u001b[K     |██████████████████▍             | 112kB 3.1MB/s eta 0:00:01\r\u001b[K     |████████████████████            | 122kB 3.1MB/s eta 0:00:01\r\u001b[K     |█████████████████████▊          | 133kB 3.1MB/s eta 0:00:01\r\u001b[K     |███████████████████████▍        | 143kB 3.1MB/s eta 0:00:01\r\u001b[K     |█████████████████████████       | 153kB 3.1MB/s eta 0:00:01\r\u001b[K     |██████████████████████████▉     | 163kB 3.1MB/s eta 0:00:01\r\u001b[K     |████████████████████████████▌   | 174kB 3.1MB/s eta 0:00:01\r\u001b[K     |██████████████████████████████▏ | 184kB 3.1MB/s eta 0:00:01\r\u001b[K     |███████████████████████████████▉| 194kB 3.1MB/s eta 0:00:01\r\u001b[K     |████████████████████████████████| 204kB 3.1MB/s \n",
            "\u001b[?25hBuilding wheels for collected packages: bitstring\n",
            "  Building wheel for bitstring (setup.py) ... \u001b[?25l\u001b[?25hdone\n",
            "  Created wheel for bitstring: filename=bitstring-3.1.7-cp37-none-any.whl size=37949 sha256=489f1fa2ad6ebb0b48f6c3a4199a6f4e0d8e1fc27336afeff205cf36e05bcd05\n",
            "  Stored in directory: /root/.cache/pip/wheels/b8/27/f0/8373e26b7de57db03dc18aaaebdd8c26a99da882416f762979\n",
            "Successfully built bitstring\n",
            "Installing collected packages: bitstring\n",
            "Successfully installed bitstring-3.1.7\n"
          ],
          "name": "stdout"
        }
      ]
    },
    {
      "cell_type": "code",
      "metadata": {
        "id": "QLwRCwg9o3_V"
      },
      "source": [
        "# Algoritmo de ejemplo\n",
        "a = 9819824.624837\n",
        "b = 148736.523476\n",
        "c = a+b\n",
        " \n",
        "# Implementación de ejemplo con Representación de Punto Flotante de 'bits_mant' bits en la mantisa y 'bits_exp' bits en el exponente.\n",
        "am = f_new_rep(9819824.624837,bits_mant,bits_exp) # Aproximar el input en la nueva representación.\n",
        "bm = f_new_rep(148736.523476,bits_mant,bits_exp) # Aproximar el input en la nueva representación.\n",
        "cm = f_suma(am,bm,bits_mant,bits_exp) # Aproximar el output de la suma y cada operación en la nueva representación."
      ],
      "execution_count": null,
      "outputs": []
    },
    {
      "cell_type": "code",
      "metadata": {
        "colab": {
          "base_uri": "https://localhost:8080/"
        },
        "id": "VljWRhKjo6bA",
        "outputId": "65293f6d-79f2-4638-fe75-15399c98683e"
      },
      "source": [
        "import bitstring as bts\n",
        "\"\"\"\n",
        "input\n",
        "x         : (double) valor a evaluar\n",
        "bits_mant : (int) cantidad de bits de la mantisa\n",
        "bits_exp  : (int) cantidad de bits del exponente\n",
        "output\n",
        "result      : (double) resultado obtenido\n",
        "\"\"\"\n",
        "def f_new_rep(x,bits_mant,bits_exp):\n",
        "    # Algoritmo de representación de punto flotante modificada.\n",
        "    \n",
        "    #Numero en double precision\n",
        "    x = bts.pack('>d', x)\n",
        "    x = x.bin\n",
        "    \n",
        "    print(len(x[0]),len(x[1:12]),len(x[12:]))\n",
        "    print(x[0],x[1:12],x[12:])\n",
        "\n",
        "    #Truncar mantisa\n",
        "    #(*) 2^(bits_exp-1)-1 => ejemplo... 2^(4-1)-1 = 2^3-1=7\n",
        "    # => -6 a 7 (-7 caso 0000 y 8 caso 1111) notar que hay 16 numeros posibles (2^4 = 16)\n",
        "    exp  = x[1:12]\n",
        "    a= int(exp, 2)\n",
        "    print(\"Maximo:\",int(bits_exp*'1',2),\"tengo:\",int(exp,2))\n",
        "    if int(exp,2) > int(bits_exp*'1',2):\n",
        "      print(bits_exp*'1')\n",
        "    #return  result\n",
        "\n",
        "\"\"\"\n",
        "input\n",
        "n1        : (double) valor a sumar\n",
        "n2        : (double) valor a sumar\n",
        "bits_mant : (int) cantidad de bits de la mantisa\n",
        "bits_exp  : (int) cantidad de bits del exponente\n",
        "output\n",
        "result      : (double) resultado obtenido\n",
        "\"\"\"\n",
        "def f_suma(n1,n2,bits_mant,bits_exp):\n",
        "    #Algoritmo que calcula la suma de dos numeros manteniendo el estandar asignado\n",
        "    return result\n",
        "\n",
        "\"\"\"\n",
        "input\n",
        "n1        : (double) valor a multiplicar\n",
        "n2        : (double) valor a multiplicar\n",
        "bits_mant : (int) cantidad de bits de la mantisa\n",
        "bits_exp  : (int) cantidad de bits del exponente\n",
        "output\n",
        "result      : (double) resultado obtenido\n",
        "\"\"\"\n",
        "def f_multiplicacion(n1,n2,bits_mant,bits_exp):\n",
        "    #Algoritmo que calcula la multiplicación de dos numeros manteniendo el estandar asignado\n",
        "    return result\n",
        "\n",
        "\"\"\"\n",
        "input\n",
        "n1        : (double) valor a multiplicar\n",
        "n2        : (double) valor a multiplicar\n",
        "bits_mant : (int) cantidad de bits de la mantisa\n",
        "bits_exp  : (int) cantidad de bits del exponente\n",
        "output\n",
        "result      : (double) resultado obtenido\n",
        "\"\"\"\n",
        "def f_division(n1,n2,bits_mant,bits_exp):\n",
        "    #Algoritmo que calcula la división de dos numeros manteniendo el estandar asignado\n",
        "    return result\n",
        "\n",
        "\"\"\"\n",
        "input\n",
        "A         : (double) valor a evaluar\n",
        "bits_mant : (int) cantidad de bits de la mantisa\n",
        "bits_exp  : (int) cantidad de bits del exponente\n",
        "output\n",
        "x_roots      : (array) raices del polinomio ordenadas de menor a mayor\n",
        "\"\"\"\n",
        "def f_find_roots(A,bits_mant,bits_exp):\n",
        "    # Algoritmo para encontrar raíces de f(x).\n",
        "    return x_roots\n",
        "\n",
        "f_new_rep(58,2,3)"
      ],
      "execution_count": 64,
      "outputs": [
        {
          "output_type": "stream",
          "text": [
            "1 11 52\n",
            "0 10000000100 1101000000000000000000000000000000000000000000000000\n",
            "Maximo: 7 tengo: 1028\n",
            "111\n"
          ],
          "name": "stdout"
        }
      ]
    },
    {
      "cell_type": "code",
      "metadata": {
        "id": "cZuFhpMKf-2H",
        "colab": {
          "base_uri": "https://localhost:8080/"
        },
        "outputId": "f85c7387-f434-4ed0-81a2-186444606b19"
      },
      "source": [
        "import numpy as np\n",
        "import sympy as sym\n",
        "\n",
        "alpha = 5\n",
        "beta = 6\n",
        "x = sym.Symbol('x')\n",
        "\n",
        "\n",
        "#f= lambda x: alpha*np.cos(x)+beta*np.sin(np.log10(x))\n",
        "#fp= lambda x: (beta*np.cos(np.log(x)))/(x) - alpha*np.sin(x)\n",
        "\n",
        "fp = lambda x: (beta*sym.cos(sym.log(x)))/(x) - alpha*sym.sin(x)\n",
        "\n",
        "r_all=sym.solve(sym.Eq(fp(x)),0)\n",
        "print(r_all)\n",
        "\n",
        "print(f(25))\n",
        "print(fp(25))"
      ],
      "execution_count": 22,
      "outputs": [
        {
          "output_type": "stream",
          "text": [
            "[5*sin(x) - 6*cos(log(x))/x]\n",
            "10.866599110238095\n",
            "6*cos(log(25))/25 - 5*sin(25)\n"
          ],
          "name": "stdout"
        },
        {
          "output_type": "stream",
          "text": [
            "/usr/local/lib/python3.7/dist-packages/sympy/core/relational.py:496: SymPyDeprecationWarning: \n",
            "\n",
            "Eq(expr) with rhs default to 0 has been deprecated since SymPy 1.5.\n",
            "Use Eq(expr, 0) instead. See\n",
            "https://github.com/sympy/sympy/issues/16587 for more info.\n",
            "\n",
            "  deprecated_since_version=\"1.5\"\n"
          ],
          "name": "stderr"
        }
      ]
    }
  ]
}